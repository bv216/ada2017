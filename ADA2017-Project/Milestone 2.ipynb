{
 "cells": [
  {
   "cell_type": "markdown",
   "metadata": {},
   "source": [
    "# Milestone 2"
   ]
  },
  {
   "cell_type": "markdown",
   "metadata": {},
   "source": [
    "Our main Dataset is the Amazon one, that is based on its reviews for almost 20 years. It's about 20 GB, but, as we are going to complement it with some music Dataset, we think It's better using the cluster for all the work instead of mixing local and cluster work."
   ]
  },
  {
   "cell_type": "markdown",
   "metadata": {},
   "source": [
    "For the main dataset, (Amazon DS in advance), we explore its *.json* files and take the main info, for us the field \"asin\" as key, which is the id for the product, and the rest of the fields to complement our analysis."
   ]
  }
 ],
 "metadata": {
  "kernelspec": {
   "display_name": "Python 3",
   "language": "python",
   "name": "python3"
  },
  "language_info": {
   "codemirror_mode": {
    "name": "ipython",
    "version": 3
   },
   "file_extension": ".py",
   "mimetype": "text/x-python",
   "name": "python",
   "nbconvert_exporter": "python",
   "pygments_lexer": "ipython3",
   "version": "3.6.1"
  }
 },
 "nbformat": 4,
 "nbformat_minor": 2
}
