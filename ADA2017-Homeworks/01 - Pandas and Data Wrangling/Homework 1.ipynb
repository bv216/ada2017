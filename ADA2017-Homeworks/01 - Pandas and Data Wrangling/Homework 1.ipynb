{
 "cells": [
  {
   "cell_type": "markdown",
   "metadata": {},
   "source": [
    "# Table of Contents\n",
    " <p><div class=\"lev1\"><a href=\"#Task-1.-Compiling-Ebola-Data\"><span class=\"toc-item-num\">Task 1.&nbsp;&nbsp;</span>Compiling Ebola Data</a></div>\n",
    " <div class=\"lev1\"><a href=\"#Task-2.-RNA-Sequences\"><span class=\"toc-item-num\">Task 2.&nbsp;&nbsp;</span>RNA Sequences</a></div>\n",
    " <div class=\"lev1\"><a href=\"#Task-3.-Class-War-in-Titanic\"><span class=\"toc-item-num\">Task 3.&nbsp;&nbsp;</span>Class War in Titanic</a></div></p>"
   ]
  },
  {
   "cell_type": "code",
   "execution_count": 6,
   "metadata": {
    "collapsed": true
   },
   "outputs": [],
   "source": [
    "DATA_FOLDER = '../../ADA2017-Tutorials-master/02 - Intro to Pandas/Data' # Use the data folder provided in Tutorial 02 - Intro to Pandas."
   ]
  },
  {
   "cell_type": "markdown",
   "metadata": {},
   "source": [
    "## Task 1. Compiling Ebola Data\n",
    "\n",
    "The `DATA_FOLDER/ebola` folder contains summarized reports of Ebola cases from three countries (Guinea, Liberia and Sierra Leone) during the recent outbreak of the disease in West Africa. For each country, there are daily reports that contain various information about the outbreak in several cities in each country.\n",
    "\n",
    "Use pandas to import these data files into a single `Dataframe`.\n",
    "Using this `DataFrame`, calculate for *each country*, the *daily average per month* of *new cases* and *deaths*.\n",
    "Make sure you handle all the different expressions for *new cases* and *deaths* that are used in the reports."
   ]
  },
  {
   "cell_type": "code",
   "execution_count": 29,
   "metadata": {
    "collapsed": true
   },
   "outputs": [],
   "source": [
    "from os import listdir\n",
    "from os.path import isfile, join\n",
    "import pandas as pd\n",
    "import datetime\n",
    "from dateutil.parser import parse"
   ]
  },
  {
   "cell_type": "markdown",
   "metadata": {},
   "source": [
    "**Read all files:**\n",
    "\n",
    "Once in the correct folder with 'mypath', we read all the files with 2 *for* loops.\n",
    "\n",
    "The first loop gives us a list, *onlyfiles*, of all the files' name within the folder.\n",
    "\n",
    "The second loop reads the content all the files in *onlyfiles* and makes one list out of it: *all_files*."
   ]
  },
  {
   "cell_type": "markdown",
   "metadata": {},
   "source": [
    "**Sierra Leone:**"
   ]
  },
  {
   "cell_type": "code",
   "execution_count": 30,
   "metadata": {
    "collapsed": true
   },
   "outputs": [],
   "source": [
    "mypath=DATA_FOLDER + '/ebola/sl_data'\n",
    "\n",
    "onlyfiles = [f for f in listdir(mypath) if isfile(join(mypath, f))]\n",
    "all_files = [pd.read_csv(mypath + '/' + file) for file in onlyfiles]"
   ]
  },
  {
   "cell_type": "markdown",
   "metadata": {},
   "source": [
    "We concatenate all files in one single dataframe per folder/country."
   ]
  },
  {
   "cell_type": "code",
   "execution_count": 31,
   "metadata": {},
   "outputs": [
    {
     "data": {
      "text/html": [
       "<div>\n",
       "<style>\n",
       "    .dataframe thead tr:only-child th {\n",
       "        text-align: right;\n",
       "    }\n",
       "\n",
       "    .dataframe thead th {\n",
       "        text-align: left;\n",
       "    }\n",
       "\n",
       "    .dataframe tbody tr th {\n",
       "        vertical-align: top;\n",
       "    }\n",
       "</style>\n",
       "<table border=\"1\" class=\"dataframe\">\n",
       "  <thead>\n",
       "    <tr style=\"text-align: right;\">\n",
       "      <th></th>\n",
       "      <th>34 Military Hospital</th>\n",
       "      <th>Bo</th>\n",
       "      <th>Bo EMC</th>\n",
       "      <th>Bombali</th>\n",
       "      <th>Bonthe</th>\n",
       "      <th>Hastings-F/Town</th>\n",
       "      <th>Kailahun</th>\n",
       "      <th>Kambia</th>\n",
       "      <th>Kenema</th>\n",
       "      <th>Kenema (IFRC)</th>\n",
       "      <th>...</th>\n",
       "      <th>Port Loko</th>\n",
       "      <th>Pujehun</th>\n",
       "      <th>Tonkolili</th>\n",
       "      <th>Unnamed: 18</th>\n",
       "      <th>Western area</th>\n",
       "      <th>Western area combined</th>\n",
       "      <th>Western area rural</th>\n",
       "      <th>Western area urban</th>\n",
       "      <th>date</th>\n",
       "      <th>variable</th>\n",
       "    </tr>\n",
       "  </thead>\n",
       "  <tbody>\n",
       "    <tr>\n",
       "      <th>0</th>\n",
       "      <td>NaN</td>\n",
       "      <td>654142</td>\n",
       "      <td>NaN</td>\n",
       "      <td>494139</td>\n",
       "      <td>168729</td>\n",
       "      <td>NaN</td>\n",
       "      <td>465048</td>\n",
       "      <td>341690</td>\n",
       "      <td>653013</td>\n",
       "      <td>NaN</td>\n",
       "      <td>...</td>\n",
       "      <td>557978</td>\n",
       "      <td>335574</td>\n",
       "      <td>434937</td>\n",
       "      <td>NaN</td>\n",
       "      <td>NaN</td>\n",
       "      <td>NaN</td>\n",
       "      <td>263619</td>\n",
       "      <td>1040888</td>\n",
       "      <td>2014-08-12</td>\n",
       "      <td>population</td>\n",
       "    </tr>\n",
       "    <tr>\n",
       "      <th>1</th>\n",
       "      <td>NaN</td>\n",
       "      <td>0</td>\n",
       "      <td>NaN</td>\n",
       "      <td>0</td>\n",
       "      <td>0</td>\n",
       "      <td>NaN</td>\n",
       "      <td>0</td>\n",
       "      <td>0</td>\n",
       "      <td>3</td>\n",
       "      <td>NaN</td>\n",
       "      <td>...</td>\n",
       "      <td>1</td>\n",
       "      <td>0</td>\n",
       "      <td>0</td>\n",
       "      <td>NaN</td>\n",
       "      <td>NaN</td>\n",
       "      <td>NaN</td>\n",
       "      <td>0</td>\n",
       "      <td>0</td>\n",
       "      <td>2014-08-12</td>\n",
       "      <td>new_noncase</td>\n",
       "    </tr>\n",
       "    <tr>\n",
       "      <th>2</th>\n",
       "      <td>NaN</td>\n",
       "      <td>1</td>\n",
       "      <td>NaN</td>\n",
       "      <td>0</td>\n",
       "      <td>0</td>\n",
       "      <td>NaN</td>\n",
       "      <td>0</td>\n",
       "      <td>0</td>\n",
       "      <td>9</td>\n",
       "      <td>NaN</td>\n",
       "      <td>...</td>\n",
       "      <td>0</td>\n",
       "      <td>0</td>\n",
       "      <td>0</td>\n",
       "      <td>NaN</td>\n",
       "      <td>NaN</td>\n",
       "      <td>NaN</td>\n",
       "      <td>0</td>\n",
       "      <td>0</td>\n",
       "      <td>2014-08-12</td>\n",
       "      <td>new_suspected</td>\n",
       "    </tr>\n",
       "    <tr>\n",
       "      <th>3</th>\n",
       "      <td>NaN</td>\n",
       "      <td>1</td>\n",
       "      <td>NaN</td>\n",
       "      <td>0</td>\n",
       "      <td>0</td>\n",
       "      <td>NaN</td>\n",
       "      <td>0</td>\n",
       "      <td>0</td>\n",
       "      <td>0</td>\n",
       "      <td>NaN</td>\n",
       "      <td>...</td>\n",
       "      <td>0</td>\n",
       "      <td>0</td>\n",
       "      <td>0</td>\n",
       "      <td>NaN</td>\n",
       "      <td>NaN</td>\n",
       "      <td>NaN</td>\n",
       "      <td>0</td>\n",
       "      <td>0</td>\n",
       "      <td>2014-08-12</td>\n",
       "      <td>new_probable</td>\n",
       "    </tr>\n",
       "    <tr>\n",
       "      <th>4</th>\n",
       "      <td>NaN</td>\n",
       "      <td>0</td>\n",
       "      <td>NaN</td>\n",
       "      <td>0</td>\n",
       "      <td>0</td>\n",
       "      <td>NaN</td>\n",
       "      <td>0</td>\n",
       "      <td>0</td>\n",
       "      <td>9</td>\n",
       "      <td>NaN</td>\n",
       "      <td>...</td>\n",
       "      <td>2</td>\n",
       "      <td>0</td>\n",
       "      <td>0</td>\n",
       "      <td>NaN</td>\n",
       "      <td>NaN</td>\n",
       "      <td>NaN</td>\n",
       "      <td>0</td>\n",
       "      <td>0</td>\n",
       "      <td>2014-08-12</td>\n",
       "      <td>new_confirmed</td>\n",
       "    </tr>\n",
       "  </tbody>\n",
       "</table>\n",
       "<p>5 rows × 27 columns</p>\n",
       "</div>"
      ],
      "text/plain": [
       "   34 Military Hospital      Bo  Bo EMC Bombali  Bonthe  Hastings-F/Town  \\\n",
       "0                   NaN  654142     NaN  494139  168729              NaN   \n",
       "1                   NaN       0     NaN       0       0              NaN   \n",
       "2                   NaN       1     NaN       0       0              NaN   \n",
       "3                   NaN       1     NaN       0       0              NaN   \n",
       "4                   NaN       0     NaN       0       0              NaN   \n",
       "\n",
       "  Kailahun  Kambia  Kenema  Kenema (IFRC)      ...       Port Loko Pujehun  \\\n",
       "0   465048  341690  653013            NaN      ...          557978  335574   \n",
       "1        0       0       3            NaN      ...               1       0   \n",
       "2        0       0       9            NaN      ...               0       0   \n",
       "3        0       0       0            NaN      ...               0       0   \n",
       "4        0       0       9            NaN      ...               2       0   \n",
       "\n",
       "  Tonkolili Unnamed: 18 Western area  Western area combined  \\\n",
       "0    434937         NaN          NaN                    NaN   \n",
       "1         0         NaN          NaN                    NaN   \n",
       "2         0         NaN          NaN                    NaN   \n",
       "3         0         NaN          NaN                    NaN   \n",
       "4         0         NaN          NaN                    NaN   \n",
       "\n",
       "   Western area rural Western area urban        date       variable  \n",
       "0              263619            1040888  2014-08-12     population  \n",
       "1                   0                  0  2014-08-12    new_noncase  \n",
       "2                   0                  0  2014-08-12  new_suspected  \n",
       "3                   0                  0  2014-08-12   new_probable  \n",
       "4                   0                  0  2014-08-12  new_confirmed  \n",
       "\n",
       "[5 rows x 27 columns]"
      ]
     },
     "execution_count": 31,
     "metadata": {},
     "output_type": "execute_result"
    }
   ],
   "source": [
    "data_sl = pd.concat(f for f in all_files)\n",
    "\n",
    "data_sl.head()"
   ]
  },
  {
   "cell_type": "markdown",
   "metadata": {},
   "source": [
    "This dataframe is cleaned: \n",
    "- adding a column containing the origin of the data\n",
    "- changing names of useful columns \n",
    "- getting ride of the unwanted columns"
   ]
  },
  {
   "cell_type": "code",
   "execution_count": 32,
   "metadata": {},
   "outputs": [
    {
     "data": {
      "text/html": [
       "<div>\n",
       "<style>\n",
       "    .dataframe thead tr:only-child th {\n",
       "        text-align: right;\n",
       "    }\n",
       "\n",
       "    .dataframe thead th {\n",
       "        text-align: left;\n",
       "    }\n",
       "\n",
       "    .dataframe tbody tr th {\n",
       "        vertical-align: top;\n",
       "    }\n",
       "</style>\n",
       "<table border=\"1\" class=\"dataframe\">\n",
       "  <thead>\n",
       "    <tr style=\"text-align: right;\">\n",
       "      <th></th>\n",
       "      <th>Country</th>\n",
       "      <th>Date</th>\n",
       "      <th>Description</th>\n",
       "      <th>National</th>\n",
       "    </tr>\n",
       "  </thead>\n",
       "  <tbody>\n",
       "    <tr>\n",
       "      <th>0</th>\n",
       "      <td>Sierra_Leone</td>\n",
       "      <td>2014-08-12</td>\n",
       "      <td>population</td>\n",
       "      <td>6348350</td>\n",
       "    </tr>\n",
       "    <tr>\n",
       "      <th>1</th>\n",
       "      <td>Sierra_Leone</td>\n",
       "      <td>2014-08-12</td>\n",
       "      <td>new_noncase</td>\n",
       "      <td>4</td>\n",
       "    </tr>\n",
       "    <tr>\n",
       "      <th>2</th>\n",
       "      <td>Sierra_Leone</td>\n",
       "      <td>2014-08-12</td>\n",
       "      <td>new_suspected</td>\n",
       "      <td>10</td>\n",
       "    </tr>\n",
       "    <tr>\n",
       "      <th>3</th>\n",
       "      <td>Sierra_Leone</td>\n",
       "      <td>2014-08-12</td>\n",
       "      <td>new_probable</td>\n",
       "      <td>1</td>\n",
       "    </tr>\n",
       "    <tr>\n",
       "      <th>4</th>\n",
       "      <td>Sierra_Leone</td>\n",
       "      <td>2014-08-12</td>\n",
       "      <td>new_confirmed</td>\n",
       "      <td>11</td>\n",
       "    </tr>\n",
       "  </tbody>\n",
       "</table>\n",
       "</div>"
      ],
      "text/plain": [
       "        Country        Date    Description National\n",
       "0  Sierra_Leone  2014-08-12     population  6348350\n",
       "1  Sierra_Leone  2014-08-12    new_noncase        4\n",
       "2  Sierra_Leone  2014-08-12  new_suspected       10\n",
       "3  Sierra_Leone  2014-08-12   new_probable        1\n",
       "4  Sierra_Leone  2014-08-12  new_confirmed       11"
      ]
     },
     "execution_count": 32,
     "metadata": {},
     "output_type": "execute_result"
    }
   ],
   "source": [
    "data_sl['Country'] = 'Sierra_Leone'\n",
    "data_sl.rename(columns={'date': 'Date', 'variable': 'Description'}, inplace=True)\n",
    "data_sl = data_sl[['Country', 'Date','Description','National']]\n",
    "\n",
    "data_sl.head()"
   ]
  },
  {
   "cell_type": "markdown",
   "metadata": {},
   "source": [
    "For simplicity, we repeat the process 2 more times; one for each folder/country."
   ]
  },
  {
   "cell_type": "markdown",
   "metadata": {},
   "source": [
    "**Guinea:**"
   ]
  },
  {
   "cell_type": "code",
   "execution_count": 33,
   "metadata": {
    "collapsed": true
   },
   "outputs": [],
   "source": [
    "mypath=DATA_FOLDER + '/ebola/guinea_data'\n",
    "\n",
    "onlyfiles = [f for f in listdir(mypath) if isfile(join(mypath, f))]\n",
    "all_files = [pd.read_csv(mypath + '/' + file) for file in onlyfiles]"
   ]
  },
  {
   "cell_type": "code",
   "execution_count": 34,
   "metadata": {
    "collapsed": true
   },
   "outputs": [],
   "source": [
    "data_g = pd.concat(f for f in all_files)"
   ]
  },
  {
   "cell_type": "markdown",
   "metadata": {},
   "source": [
    "Once again, the dataframe is cleaned but the columns have different initial names, making it easier to repeat the process 3 times instead of creating one more complex function."
   ]
  },
  {
   "cell_type": "code",
   "execution_count": 35,
   "metadata": {
    "collapsed": true
   },
   "outputs": [],
   "source": [
    "data_g['Country'] = 'Guinea'\n",
    "data_g.rename(columns={'Totals':'National'}, inplace=True)\n",
    "data_g = data_g[['Country', 'Date','Description','National']]"
   ]
  },
  {
   "cell_type": "markdown",
   "metadata": {},
   "source": [
    "**Liberia:**"
   ]
  },
  {
   "cell_type": "code",
   "execution_count": 36,
   "metadata": {
    "collapsed": true
   },
   "outputs": [],
   "source": [
    "mypath=DATA_FOLDER + '/ebola/liberia_data'\n",
    "\n",
    "onlyfiles = [f for f in listdir(mypath) if isfile(join(mypath, f))]\n",
    "all_files = [pd.read_csv(mypath + '/' + file) for file in onlyfiles]"
   ]
  },
  {
   "cell_type": "code",
   "execution_count": 37,
   "metadata": {
    "collapsed": true
   },
   "outputs": [],
   "source": [
    "data_l = pd.concat(f for f in all_files)"
   ]
  },
  {
   "cell_type": "code",
   "execution_count": 38,
   "metadata": {
    "collapsed": true
   },
   "outputs": [],
   "source": [
    "data_l['Country'] = 'Liberia'\n",
    "data_l.rename(columns={'Variable': 'Description'}, inplace=True)\n",
    "data_l = data_l[['Country', 'Date','Description','National']]"
   ]
  },
  {
   "cell_type": "markdown",
   "metadata": {},
   "source": [
    "We concatenate the 3 dataframes (*data_sl*, *data_g* and *data_l*) into one single dataframe. "
   ]
  },
  {
   "cell_type": "code",
   "execution_count": 39,
   "metadata": {},
   "outputs": [
    {
     "data": {
      "text/html": [
       "<div>\n",
       "<style>\n",
       "    .dataframe thead tr:only-child th {\n",
       "        text-align: right;\n",
       "    }\n",
       "\n",
       "    .dataframe thead th {\n",
       "        text-align: left;\n",
       "    }\n",
       "\n",
       "    .dataframe tbody tr th {\n",
       "        vertical-align: top;\n",
       "    }\n",
       "</style>\n",
       "<table border=\"1\" class=\"dataframe\">\n",
       "  <thead>\n",
       "    <tr style=\"text-align: right;\">\n",
       "      <th></th>\n",
       "      <th>Country</th>\n",
       "      <th>Date</th>\n",
       "      <th>Description</th>\n",
       "      <th>National</th>\n",
       "    </tr>\n",
       "  </thead>\n",
       "  <tbody>\n",
       "    <tr>\n",
       "      <th>27</th>\n",
       "      <td>Liberia</td>\n",
       "      <td>12/9/2014</td>\n",
       "      <td>Total probable cases</td>\n",
       "      <td>NaN</td>\n",
       "    </tr>\n",
       "    <tr>\n",
       "      <th>28</th>\n",
       "      <td>Liberia</td>\n",
       "      <td>12/9/2014</td>\n",
       "      <td>Total confirmed cases</td>\n",
       "      <td>NaN</td>\n",
       "    </tr>\n",
       "    <tr>\n",
       "      <th>29</th>\n",
       "      <td>Liberia</td>\n",
       "      <td>12/9/2014</td>\n",
       "      <td>Total Number of Confirmed Cases \\n of Sierra L...</td>\n",
       "      <td>NaN</td>\n",
       "    </tr>\n",
       "    <tr>\n",
       "      <th>30</th>\n",
       "      <td>Liberia</td>\n",
       "      <td>12/9/2014</td>\n",
       "      <td>Total Number of Confirmed Cases \\n of Guinean ...</td>\n",
       "      <td>NaN</td>\n",
       "    </tr>\n",
       "    <tr>\n",
       "      <th>31</th>\n",
       "      <td>Liberia</td>\n",
       "      <td>12/9/2014</td>\n",
       "      <td>Cumulative confirmed, probable and suspected c...</td>\n",
       "      <td>7797</td>\n",
       "    </tr>\n",
       "  </tbody>\n",
       "</table>\n",
       "</div>"
      ],
      "text/plain": [
       "    Country       Date                                        Description  \\\n",
       "27  Liberia  12/9/2014                               Total probable cases   \n",
       "28  Liberia  12/9/2014                              Total confirmed cases   \n",
       "29  Liberia  12/9/2014  Total Number of Confirmed Cases \\n of Sierra L...   \n",
       "30  Liberia  12/9/2014  Total Number of Confirmed Cases \\n of Guinean ...   \n",
       "31  Liberia  12/9/2014  Cumulative confirmed, probable and suspected c...   \n",
       "\n",
       "   National  \n",
       "27      NaN  \n",
       "28      NaN  \n",
       "29      NaN  \n",
       "30      NaN  \n",
       "31     7797  "
      ]
     },
     "execution_count": 39,
     "metadata": {},
     "output_type": "execute_result"
    }
   ],
   "source": [
    "data = data_sl.append([data_g, data_l])\n",
    "data.tail()"
   ]
  },
  {
   "cell_type": "markdown",
   "metadata": {},
   "source": [
    "We reset the index to have one unique index on the whole data."
   ]
  },
  {
   "cell_type": "code",
   "execution_count": 40,
   "metadata": {},
   "outputs": [
    {
     "data": {
      "text/plain": [
       "True"
      ]
     },
     "execution_count": 40,
     "metadata": {},
     "output_type": "execute_result"
    }
   ],
   "source": [
    "data=data.reset_index()\n",
    "data=data.drop('index',axis=1)\n",
    "data.index.is_unique"
   ]
  },
  {
   "cell_type": "markdown",
   "metadata": {},
   "source": [
    "For the following computations, we get ride of the *NaN* in the desired column."
   ]
  },
  {
   "cell_type": "code",
   "execution_count": 41,
   "metadata": {
    "collapsed": true
   },
   "outputs": [],
   "source": [
    "data['National']=data['National'].fillna(0)"
   ]
  },
  {
   "cell_type": "markdown",
   "metadata": {},
   "source": [
    "Now, we want to calculate the *daily average per month* of *new cases* and *deaths*.\n",
    "\n",
    "First, we change the *Date* format and create a column *Month* containing only the month and another one containing only the year."
   ]
  },
  {
   "cell_type": "code",
   "execution_count": 42,
   "metadata": {
    "collapsed": true
   },
   "outputs": [],
   "source": [
    "data['Date'] = data['Date'].apply(lambda x: parse(x))\n",
    "data['Month'] = data['Date'].apply(lambda x: x.month)\n",
    "data['Year'] = data['Date'].apply(lambda x: x.year)"
   ]
  },
  {
   "cell_type": "markdown",
   "metadata": {},
   "source": [
    "This is where we select the wanted *Description* for each command.\n",
    "\n",
    "Here, we decided that *Total new cases registered so far*, *New case/s (confirmed)* and *new_confirmed* define *new cases*. There is one label per country.\n",
    "\n",
    "There are 4 labels to define the *Deaths* as it changes through times for *Guinea*."
   ]
  },
  {
   "cell_type": "code",
   "execution_count": 25,
   "metadata": {
    "collapsed": true
   },
   "outputs": [],
   "source": [
    "data_c=data[data.Description.isin(['Total new cases registered so far','New case/s (confirmed)','new_confirmed'])]\n",
    "data_d=data[data.Description.isin(['New deaths registered today','New deaths registered','Newly reported deaths','etc_new_deaths'])]"
   ]
  },
  {
   "cell_type": "markdown",
   "metadata": {},
   "source": [
    "Drop the column *Description* for simplicity reason later on."
   ]
  },
  {
   "cell_type": "code",
   "execution_count": 26,
   "metadata": {
    "collapsed": true
   },
   "outputs": [],
   "source": [
    "data_c=data_c[[ 'Country','Year','Month','National']]\n",
    "data_d=data_d[[ 'Country','Year','Month','National']]\n",
    "data_d.columns=[ 'Country','Year','Month','Deaths']"
   ]
  },
  {
   "cell_type": "markdown",
   "metadata": {},
   "source": [
    "We simply change the format of the data."
   ]
  },
  {
   "cell_type": "code",
   "execution_count": 27,
   "metadata": {
    "collapsed": true
   },
   "outputs": [],
   "source": [
    "data_c['National']=pd.to_numeric(data_c['National'])\n",
    "data_d['Deaths']=pd.to_numeric(data_d['Deaths'])"
   ]
  },
  {
   "cell_type": "markdown",
   "metadata": {},
   "source": [
    "Using *groupby* and *agg*, we are able to classify the data through the *Country*, then the *Year* and finally the *Month*."
   ]
  },
  {
   "cell_type": "code",
   "execution_count": 43,
   "metadata": {
    "collapsed": true
   },
   "outputs": [],
   "source": [
    "c = data_c.groupby(['Country','Year','Month'], as_index=False,sort=False)\n",
    "agg_c={'National':'mean'}\n",
    "final=c.agg(agg_c)\n",
    "\n",
    "d = data_d.groupby(['Country','Year','Month'], as_index=False,sort=False)\n",
    "agg_d={'Deaths':'mean'}\n",
    "final_d=d.agg(agg_d)"
   ]
  },
  {
   "cell_type": "markdown",
   "metadata": {},
   "source": [
    "Finally, we join the 2 dataframes, round the values and rename the columns."
   ]
  },
  {
   "cell_type": "code",
   "execution_count": 44,
   "metadata": {},
   "outputs": [
    {
     "data": {
      "text/html": [
       "<div>\n",
       "<style>\n",
       "    .dataframe thead tr:only-child th {\n",
       "        text-align: right;\n",
       "    }\n",
       "\n",
       "    .dataframe thead th {\n",
       "        text-align: left;\n",
       "    }\n",
       "\n",
       "    .dataframe tbody tr th {\n",
       "        vertical-align: top;\n",
       "    }\n",
       "</style>\n",
       "<table border=\"1\" class=\"dataframe\">\n",
       "  <thead>\n",
       "    <tr style=\"text-align: right;\">\n",
       "      <th></th>\n",
       "      <th>Country</th>\n",
       "      <th>Year</th>\n",
       "      <th>Month</th>\n",
       "      <th>New Cases</th>\n",
       "      <th>New Deaths</th>\n",
       "    </tr>\n",
       "  </thead>\n",
       "  <tbody>\n",
       "    <tr>\n",
       "      <th>0</th>\n",
       "      <td>Sierra_Leone</td>\n",
       "      <td>2014</td>\n",
       "      <td>8</td>\n",
       "      <td>18.55</td>\n",
       "      <td>0.00</td>\n",
       "    </tr>\n",
       "    <tr>\n",
       "      <th>1</th>\n",
       "      <td>Sierra_Leone</td>\n",
       "      <td>2014</td>\n",
       "      <td>9</td>\n",
       "      <td>34.41</td>\n",
       "      <td>0.28</td>\n",
       "    </tr>\n",
       "    <tr>\n",
       "      <th>2</th>\n",
       "      <td>Sierra_Leone</td>\n",
       "      <td>2014</td>\n",
       "      <td>10</td>\n",
       "      <td>56.71</td>\n",
       "      <td>3.54</td>\n",
       "    </tr>\n",
       "    <tr>\n",
       "      <th>3</th>\n",
       "      <td>Sierra_Leone</td>\n",
       "      <td>2014</td>\n",
       "      <td>11</td>\n",
       "      <td>59.90</td>\n",
       "      <td>0.57</td>\n",
       "    </tr>\n",
       "    <tr>\n",
       "      <th>4</th>\n",
       "      <td>Sierra_Leone</td>\n",
       "      <td>2014</td>\n",
       "      <td>12</td>\n",
       "      <td>32.60</td>\n",
       "      <td>2.20</td>\n",
       "    </tr>\n",
       "    <tr>\n",
       "      <th>5</th>\n",
       "      <td>Guinea</td>\n",
       "      <td>2014</td>\n",
       "      <td>8</td>\n",
       "      <td>25.80</td>\n",
       "      <td>3.40</td>\n",
       "    </tr>\n",
       "    <tr>\n",
       "      <th>6</th>\n",
       "      <td>Guinea</td>\n",
       "      <td>2014</td>\n",
       "      <td>9</td>\n",
       "      <td>19.62</td>\n",
       "      <td>3.56</td>\n",
       "    </tr>\n",
       "    <tr>\n",
       "      <th>7</th>\n",
       "      <td>Guinea</td>\n",
       "      <td>2014</td>\n",
       "      <td>10</td>\n",
       "      <td>34.00</td>\n",
       "      <td>15.00</td>\n",
       "    </tr>\n",
       "    <tr>\n",
       "      <th>8</th>\n",
       "      <td>Liberia</td>\n",
       "      <td>2014</td>\n",
       "      <td>6</td>\n",
       "      <td>2.14</td>\n",
       "      <td>2.00</td>\n",
       "    </tr>\n",
       "    <tr>\n",
       "      <th>9</th>\n",
       "      <td>Liberia</td>\n",
       "      <td>2014</td>\n",
       "      <td>7</td>\n",
       "      <td>1.82</td>\n",
       "      <td>4.27</td>\n",
       "    </tr>\n",
       "    <tr>\n",
       "      <th>10</th>\n",
       "      <td>Liberia</td>\n",
       "      <td>2014</td>\n",
       "      <td>8</td>\n",
       "      <td>5.44</td>\n",
       "      <td>23.22</td>\n",
       "    </tr>\n",
       "    <tr>\n",
       "      <th>11</th>\n",
       "      <td>Liberia</td>\n",
       "      <td>2014</td>\n",
       "      <td>9</td>\n",
       "      <td>6.17</td>\n",
       "      <td>36.04</td>\n",
       "    </tr>\n",
       "    <tr>\n",
       "      <th>12</th>\n",
       "      <td>Liberia</td>\n",
       "      <td>2014</td>\n",
       "      <td>10</td>\n",
       "      <td>1.36</td>\n",
       "      <td>28.04</td>\n",
       "    </tr>\n",
       "    <tr>\n",
       "      <th>13</th>\n",
       "      <td>Liberia</td>\n",
       "      <td>2014</td>\n",
       "      <td>11</td>\n",
       "      <td>2.60</td>\n",
       "      <td>13.47</td>\n",
       "    </tr>\n",
       "    <tr>\n",
       "      <th>14</th>\n",
       "      <td>Liberia</td>\n",
       "      <td>2014</td>\n",
       "      <td>12</td>\n",
       "      <td>1928.33</td>\n",
       "      <td>0.00</td>\n",
       "    </tr>\n",
       "  </tbody>\n",
       "</table>\n",
       "</div>"
      ],
      "text/plain": [
       "         Country  Year  Month  New Cases  New Deaths\n",
       "0   Sierra_Leone  2014      8      18.55        0.00\n",
       "1   Sierra_Leone  2014      9      34.41        0.28\n",
       "2   Sierra_Leone  2014     10      56.71        3.54\n",
       "3   Sierra_Leone  2014     11      59.90        0.57\n",
       "4   Sierra_Leone  2014     12      32.60        2.20\n",
       "5         Guinea  2014      8      25.80        3.40\n",
       "6         Guinea  2014      9      19.62        3.56\n",
       "7         Guinea  2014     10      34.00       15.00\n",
       "8        Liberia  2014      6       2.14        2.00\n",
       "9        Liberia  2014      7       1.82        4.27\n",
       "10       Liberia  2014      8       5.44       23.22\n",
       "11       Liberia  2014      9       6.17       36.04\n",
       "12       Liberia  2014     10       1.36       28.04\n",
       "13       Liberia  2014     11       2.60       13.47\n",
       "14       Liberia  2014     12    1928.33        0.00"
      ]
     },
     "execution_count": 44,
     "metadata": {},
     "output_type": "execute_result"
    }
   ],
   "source": [
    "final['Deaths']=final_d['Deaths']\n",
    "final.National=round(final.National,2)\n",
    "final.Deaths=round(final.Deaths,2)\n",
    "final.columns=['Country','Year','Month','New Cases','New Deaths']\n",
    "final"
   ]
  },
  {
   "cell_type": "code",
   "execution_count": 42,
   "metadata": {},
   "outputs": [
    {
     "data": {
      "text/html": [
       "<div>\n",
       "<style>\n",
       "    .dataframe thead tr:only-child th {\n",
       "        text-align: right;\n",
       "    }\n",
       "\n",
       "    .dataframe thead th {\n",
       "        text-align: left;\n",
       "    }\n",
       "\n",
       "    .dataframe tbody tr th {\n",
       "        vertical-align: top;\n",
       "    }\n",
       "</style>\n",
       "<table border=\"1\" class=\"dataframe\">\n",
       "  <thead>\n",
       "    <tr style=\"text-align: right;\">\n",
       "      <th></th>\n",
       "      <th>Country</th>\n",
       "      <th>Date</th>\n",
       "      <th>Description</th>\n",
       "      <th>National</th>\n",
       "      <th>Month</th>\n",
       "      <th>Year</th>\n",
       "    </tr>\n",
       "  </thead>\n",
       "  <tbody>\n",
       "    <tr>\n",
       "      <th>0</th>\n",
       "      <td>Sierra_Leone</td>\n",
       "      <td>2014-08-12</td>\n",
       "      <td>population</td>\n",
       "      <td>6348350</td>\n",
       "      <td>8</td>\n",
       "      <td>2014</td>\n",
       "    </tr>\n",
       "    <tr>\n",
       "      <th>1</th>\n",
       "      <td>Sierra_Leone</td>\n",
       "      <td>2014-08-12</td>\n",
       "      <td>new_noncase</td>\n",
       "      <td>4</td>\n",
       "      <td>8</td>\n",
       "      <td>2014</td>\n",
       "    </tr>\n",
       "    <tr>\n",
       "      <th>2</th>\n",
       "      <td>Sierra_Leone</td>\n",
       "      <td>2014-08-12</td>\n",
       "      <td>new_suspected</td>\n",
       "      <td>10</td>\n",
       "      <td>8</td>\n",
       "      <td>2014</td>\n",
       "    </tr>\n",
       "    <tr>\n",
       "      <th>3</th>\n",
       "      <td>Sierra_Leone</td>\n",
       "      <td>2014-08-12</td>\n",
       "      <td>new_probable</td>\n",
       "      <td>1</td>\n",
       "      <td>8</td>\n",
       "      <td>2014</td>\n",
       "    </tr>\n",
       "    <tr>\n",
       "      <th>4</th>\n",
       "      <td>Sierra_Leone</td>\n",
       "      <td>2014-08-12</td>\n",
       "      <td>new_confirmed</td>\n",
       "      <td>11</td>\n",
       "      <td>8</td>\n",
       "      <td>2014</td>\n",
       "    </tr>\n",
       "  </tbody>\n",
       "</table>\n",
       "</div>"
      ],
      "text/plain": [
       "        Country       Date    Description National  Month  Year\n",
       "0  Sierra_Leone 2014-08-12     population  6348350      8  2014\n",
       "1  Sierra_Leone 2014-08-12    new_noncase        4      8  2014\n",
       "2  Sierra_Leone 2014-08-12  new_suspected       10      8  2014\n",
       "3  Sierra_Leone 2014-08-12   new_probable        1      8  2014\n",
       "4  Sierra_Leone 2014-08-12  new_confirmed       11      8  2014"
      ]
     },
     "execution_count": 42,
     "metadata": {},
     "output_type": "execute_result"
    }
   ],
   "source": [
    "#data_l.iloc[3120:3152] \n",
    "#data_l.iloc[3143:3146]#=data_l.iloc[3146:3149]\n",
    "#data_l.iloc[3111:3114]#=data_l.iloc[3146:3149]\n",
    "#data_l.iloc[3079:3082]#=data_l.iloc[3146:3149]\n",
    "#data_l[data_l.Variable=='New case/s (confirmed)',data_l.Date=='2014-12-09']\n",
    "data.head()"
   ]
  },
  {
   "cell_type": "markdown",
   "metadata": {},
   "source": [
    "## Task 2. RNA Sequences\n",
    "\n",
    "In the `DATA_FOLDER/microbiome` subdirectory, there are 9 spreadsheets of microbiome data that was acquired from high-throughput RNA sequencing procedures, along with a 10<sup>th</sup> file that describes the content of each. \n",
    "\n",
    "Use pandas to import the first 9 spreadsheets into a single `DataFrame`.\n",
    "Then, add the metadata information from the 10<sup>th</sup> spreadsheet as columns in the combined `DataFrame`.\n",
    "Make sure that the final `DataFrame` has a unique index and all the `NaN` values have been replaced by the tag `unknown`."
   ]
  },
  {
   "cell_type": "markdown",
   "metadata": {},
   "source": [
    "#### Strategy\n",
    "**Data in:**\n",
    "-  9 spreadsheets with info\n",
    "-  1 spreadsheets with metadata\n",
    "        \n",
    "**Steps:**\n",
    "1. Import 9 spreadsheets into DataFrames\n",
    "2. Add metadata from 10th as comlumns of the DFs\n",
    "3. Create an unique DF\n",
    "4. Unique index\n",
    "5. Replace NaN for unknown\n",
    "    "
   ]
  },
  {
   "cell_type": "markdown",
   "metadata": {},
   "source": [
    "*Import neccesary librarys.*"
   ]
  },
  {
   "cell_type": "code",
   "execution_count": 7,
   "metadata": {
    "collapsed": true
   },
   "outputs": [],
   "source": [
    "from os import listdir\n",
    "from os.path import isfile, join\n",
    "import pandas as pd\n",
    "import numpy as np\n",
    "import xlrd"
   ]
  },
  {
   "cell_type": "markdown",
   "metadata": {},
   "source": [
    "*Create path for files and identify metadata file.*"
   ]
  },
  {
   "cell_type": "code",
   "execution_count": 9,
   "metadata": {
    "collapsed": true
   },
   "outputs": [],
   "source": [
    "mypath=DATA_FOLDER + '/microbiome'\n",
    "metadata = pd.read_excel(mypath + '/metadata.xls')"
   ]
  },
  {
   "cell_type": "markdown",
   "metadata": {},
   "source": [
    "*List files for postprocessing.*"
   ]
  },
  {
   "cell_type": "code",
   "execution_count": 10,
   "metadata": {
    "collapsed": true
   },
   "outputs": [],
   "source": [
    "midFilesList = [f for f in listdir(mypath) if isfile(join(mypath, f))]\n",
    "midFilesData = [pd.read_excel(mypath + '/' + file, header=None) for file in midFilesList[2:]]"
   ]
  },
  {
   "cell_type": "markdown",
   "metadata": {},
   "source": [
    "*Add columns from metadata.*"
   ]
  },
  {
   "cell_type": "code",
   "execution_count": 11,
   "metadata": {
    "collapsed": true
   },
   "outputs": [],
   "source": [
    "i=0\n",
    "for file in midFilesList[2:]:\n",
    "    midFilesData[i][metadata.columns[0]] = metadata.loc[i][0]\n",
    "    midFilesData[i][metadata.columns[1]] = metadata.loc[i][1]\n",
    "    midFilesData[i][metadata.columns[2]] = metadata.loc[i][2]\n",
    "    i+=1"
   ]
  },
  {
   "cell_type": "markdown",
   "metadata": {},
   "source": [
    "*Concatenate data into a single DataFrame.<br>Replace NaN for Unknown.<br>Reset index to get an unique index.*"
   ]
  },
  {
   "cell_type": "code",
   "execution_count": 12,
   "metadata": {
    "collapsed": true
   },
   "outputs": [],
   "source": [
    "data = pd.concat(f for f in midFilesData)\n",
    "\n",
    "data = data.replace(np.nan, 'unknown', regex=True)\n",
    "\n",
    "data = data.reset_index(drop=True)"
   ]
  },
  {
   "cell_type": "markdown",
   "metadata": {},
   "source": [
    "*Show DataFrame*"
   ]
  },
  {
   "cell_type": "code",
   "execution_count": 13,
   "metadata": {},
   "outputs": [
    {
     "data": {
      "text/html": [
       "<div>\n",
       "<style>\n",
       "    .dataframe thead tr:only-child th {\n",
       "        text-align: right;\n",
       "    }\n",
       "\n",
       "    .dataframe thead th {\n",
       "        text-align: left;\n",
       "    }\n",
       "\n",
       "    .dataframe tbody tr th {\n",
       "        vertical-align: top;\n",
       "    }\n",
       "</style>\n",
       "<table border=\"1\" class=\"dataframe\">\n",
       "  <thead>\n",
       "    <tr style=\"text-align: right;\">\n",
       "      <th></th>\n",
       "      <th>0</th>\n",
       "      <th>1</th>\n",
       "      <th>BARCODE</th>\n",
       "      <th>GROUP</th>\n",
       "      <th>SAMPLE</th>\n",
       "    </tr>\n",
       "  </thead>\n",
       "  <tbody>\n",
       "    <tr>\n",
       "      <th>0</th>\n",
       "      <td>Archaea \"Crenarchaeota\" Thermoprotei Desulfuro...</td>\n",
       "      <td>7</td>\n",
       "      <td>MID1</td>\n",
       "      <td>EXTRACTION CONTROL</td>\n",
       "      <td>unknown</td>\n",
       "    </tr>\n",
       "    <tr>\n",
       "      <th>1</th>\n",
       "      <td>Archaea \"Crenarchaeota\" Thermoprotei Desulfuro...</td>\n",
       "      <td>2</td>\n",
       "      <td>MID1</td>\n",
       "      <td>EXTRACTION CONTROL</td>\n",
       "      <td>unknown</td>\n",
       "    </tr>\n",
       "    <tr>\n",
       "      <th>2</th>\n",
       "      <td>Archaea \"Crenarchaeota\" Thermoprotei Sulfoloba...</td>\n",
       "      <td>3</td>\n",
       "      <td>MID1</td>\n",
       "      <td>EXTRACTION CONTROL</td>\n",
       "      <td>unknown</td>\n",
       "    </tr>\n",
       "    <tr>\n",
       "      <th>3</th>\n",
       "      <td>Archaea \"Crenarchaeota\" Thermoprotei Thermopro...</td>\n",
       "      <td>3</td>\n",
       "      <td>MID1</td>\n",
       "      <td>EXTRACTION CONTROL</td>\n",
       "      <td>unknown</td>\n",
       "    </tr>\n",
       "    <tr>\n",
       "      <th>4</th>\n",
       "      <td>Archaea \"Euryarchaeota\" \"Methanomicrobia\" Meth...</td>\n",
       "      <td>7</td>\n",
       "      <td>MID1</td>\n",
       "      <td>EXTRACTION CONTROL</td>\n",
       "      <td>unknown</td>\n",
       "    </tr>\n",
       "    <tr>\n",
       "      <th>5</th>\n",
       "      <td>Archaea \"Euryarchaeota\" \"Methanomicrobia\" Meth...</td>\n",
       "      <td>1</td>\n",
       "      <td>MID1</td>\n",
       "      <td>EXTRACTION CONTROL</td>\n",
       "      <td>unknown</td>\n",
       "    </tr>\n",
       "    <tr>\n",
       "      <th>6</th>\n",
       "      <td>Archaea \"Euryarchaeota\" \"Methanomicrobia\" Meth...</td>\n",
       "      <td>1</td>\n",
       "      <td>MID1</td>\n",
       "      <td>EXTRACTION CONTROL</td>\n",
       "      <td>unknown</td>\n",
       "    </tr>\n",
       "    <tr>\n",
       "      <th>7</th>\n",
       "      <td>Archaea \"Euryarchaeota\" Archaeoglobi Archaeogl...</td>\n",
       "      <td>1</td>\n",
       "      <td>MID1</td>\n",
       "      <td>EXTRACTION CONTROL</td>\n",
       "      <td>unknown</td>\n",
       "    </tr>\n",
       "    <tr>\n",
       "      <th>8</th>\n",
       "      <td>Archaea \"Euryarchaeota\" Archaeoglobi Archaeogl...</td>\n",
       "      <td>1</td>\n",
       "      <td>MID1</td>\n",
       "      <td>EXTRACTION CONTROL</td>\n",
       "      <td>unknown</td>\n",
       "    </tr>\n",
       "    <tr>\n",
       "      <th>9</th>\n",
       "      <td>Archaea \"Euryarchaeota\" Halobacteria Halobacte...</td>\n",
       "      <td>1</td>\n",
       "      <td>MID1</td>\n",
       "      <td>EXTRACTION CONTROL</td>\n",
       "      <td>unknown</td>\n",
       "    </tr>\n",
       "    <tr>\n",
       "      <th>10</th>\n",
       "      <td>Archaea \"Euryarchaeota\" Halobacteria Halobacte...</td>\n",
       "      <td>4</td>\n",
       "      <td>MID1</td>\n",
       "      <td>EXTRACTION CONTROL</td>\n",
       "      <td>unknown</td>\n",
       "    </tr>\n",
       "    <tr>\n",
       "      <th>11</th>\n",
       "      <td>Archaea \"Euryarchaeota\" Halobacteria Halobacte...</td>\n",
       "      <td>1</td>\n",
       "      <td>MID1</td>\n",
       "      <td>EXTRACTION CONTROL</td>\n",
       "      <td>unknown</td>\n",
       "    </tr>\n",
       "    <tr>\n",
       "      <th>12</th>\n",
       "      <td>Archaea \"Euryarchaeota\" Halobacteria Halobacte...</td>\n",
       "      <td>2</td>\n",
       "      <td>MID1</td>\n",
       "      <td>EXTRACTION CONTROL</td>\n",
       "      <td>unknown</td>\n",
       "    </tr>\n",
       "    <tr>\n",
       "      <th>13</th>\n",
       "      <td>Archaea \"Euryarchaeota\" Halobacteria Halobacte...</td>\n",
       "      <td>4</td>\n",
       "      <td>MID1</td>\n",
       "      <td>EXTRACTION CONTROL</td>\n",
       "      <td>unknown</td>\n",
       "    </tr>\n",
       "    <tr>\n",
       "      <th>14</th>\n",
       "      <td>Archaea \"Euryarchaeota\" Methanococci Methanoco...</td>\n",
       "      <td>1</td>\n",
       "      <td>MID1</td>\n",
       "      <td>EXTRACTION CONTROL</td>\n",
       "      <td>unknown</td>\n",
       "    </tr>\n",
       "    <tr>\n",
       "      <th>15</th>\n",
       "      <td>Archaea \"Euryarchaeota\" Methanopyri Methanopyr...</td>\n",
       "      <td>12</td>\n",
       "      <td>MID1</td>\n",
       "      <td>EXTRACTION CONTROL</td>\n",
       "      <td>unknown</td>\n",
       "    </tr>\n",
       "    <tr>\n",
       "      <th>16</th>\n",
       "      <td>Archaea \"Euryarchaeota\" Thermoplasmata Thermop...</td>\n",
       "      <td>2</td>\n",
       "      <td>MID1</td>\n",
       "      <td>EXTRACTION CONTROL</td>\n",
       "      <td>unknown</td>\n",
       "    </tr>\n",
       "    <tr>\n",
       "      <th>17</th>\n",
       "      <td>Bacteria \"Actinobacteria\" Actinobacteria Actin...</td>\n",
       "      <td>2</td>\n",
       "      <td>MID1</td>\n",
       "      <td>EXTRACTION CONTROL</td>\n",
       "      <td>unknown</td>\n",
       "    </tr>\n",
       "    <tr>\n",
       "      <th>18</th>\n",
       "      <td>Bacteria \"Actinobacteria\" Actinobacteria Actin...</td>\n",
       "      <td>1</td>\n",
       "      <td>MID1</td>\n",
       "      <td>EXTRACTION CONTROL</td>\n",
       "      <td>unknown</td>\n",
       "    </tr>\n",
       "    <tr>\n",
       "      <th>19</th>\n",
       "      <td>Bacteria \"Actinobacteria\" Actinobacteria Actin...</td>\n",
       "      <td>1</td>\n",
       "      <td>MID1</td>\n",
       "      <td>EXTRACTION CONTROL</td>\n",
       "      <td>unknown</td>\n",
       "    </tr>\n",
       "    <tr>\n",
       "      <th>20</th>\n",
       "      <td>Bacteria \"Actinobacteria\" Actinobacteria Actin...</td>\n",
       "      <td>1</td>\n",
       "      <td>MID1</td>\n",
       "      <td>EXTRACTION CONTROL</td>\n",
       "      <td>unknown</td>\n",
       "    </tr>\n",
       "    <tr>\n",
       "      <th>21</th>\n",
       "      <td>Bacteria \"Actinobacteria\" Actinobacteria Actin...</td>\n",
       "      <td>2</td>\n",
       "      <td>MID1</td>\n",
       "      <td>EXTRACTION CONTROL</td>\n",
       "      <td>unknown</td>\n",
       "    </tr>\n",
       "    <tr>\n",
       "      <th>22</th>\n",
       "      <td>Bacteria \"Actinobacteria\" Actinobacteria Actin...</td>\n",
       "      <td>53</td>\n",
       "      <td>MID1</td>\n",
       "      <td>EXTRACTION CONTROL</td>\n",
       "      <td>unknown</td>\n",
       "    </tr>\n",
       "    <tr>\n",
       "      <th>23</th>\n",
       "      <td>Bacteria \"Actinobacteria\" Actinobacteria Actin...</td>\n",
       "      <td>1</td>\n",
       "      <td>MID1</td>\n",
       "      <td>EXTRACTION CONTROL</td>\n",
       "      <td>unknown</td>\n",
       "    </tr>\n",
       "    <tr>\n",
       "      <th>24</th>\n",
       "      <td>Bacteria \"Actinobacteria\" Actinobacteria Actin...</td>\n",
       "      <td>2</td>\n",
       "      <td>MID1</td>\n",
       "      <td>EXTRACTION CONTROL</td>\n",
       "      <td>unknown</td>\n",
       "    </tr>\n",
       "    <tr>\n",
       "      <th>25</th>\n",
       "      <td>Bacteria \"Actinobacteria\" Actinobacteria Actin...</td>\n",
       "      <td>3</td>\n",
       "      <td>MID1</td>\n",
       "      <td>EXTRACTION CONTROL</td>\n",
       "      <td>unknown</td>\n",
       "    </tr>\n",
       "    <tr>\n",
       "      <th>26</th>\n",
       "      <td>Bacteria \"Actinobacteria\" Actinobacteria Actin...</td>\n",
       "      <td>1</td>\n",
       "      <td>MID1</td>\n",
       "      <td>EXTRACTION CONTROL</td>\n",
       "      <td>unknown</td>\n",
       "    </tr>\n",
       "    <tr>\n",
       "      <th>27</th>\n",
       "      <td>Bacteria \"Actinobacteria\" Actinobacteria Actin...</td>\n",
       "      <td>99</td>\n",
       "      <td>MID1</td>\n",
       "      <td>EXTRACTION CONTROL</td>\n",
       "      <td>unknown</td>\n",
       "    </tr>\n",
       "    <tr>\n",
       "      <th>28</th>\n",
       "      <td>Bacteria \"Actinobacteria\" Actinobacteria Actin...</td>\n",
       "      <td>17</td>\n",
       "      <td>MID1</td>\n",
       "      <td>EXTRACTION CONTROL</td>\n",
       "      <td>unknown</td>\n",
       "    </tr>\n",
       "    <tr>\n",
       "      <th>29</th>\n",
       "      <td>Bacteria \"Actinobacteria\" Actinobacteria Actin...</td>\n",
       "      <td>2</td>\n",
       "      <td>MID1</td>\n",
       "      <td>EXTRACTION CONTROL</td>\n",
       "      <td>unknown</td>\n",
       "    </tr>\n",
       "    <tr>\n",
       "      <th>...</th>\n",
       "      <td>...</td>\n",
       "      <td>...</td>\n",
       "      <td>...</td>\n",
       "      <td>...</td>\n",
       "      <td>...</td>\n",
       "    </tr>\n",
       "    <tr>\n",
       "      <th>2366</th>\n",
       "      <td>Bacteria \"Proteobacteria\" Gammaproteobacteria ...</td>\n",
       "      <td>10</td>\n",
       "      <td>MID9</td>\n",
       "      <td>Control 2</td>\n",
       "      <td>stool</td>\n",
       "    </tr>\n",
       "    <tr>\n",
       "      <th>2367</th>\n",
       "      <td>Bacteria \"Proteobacteria\" Gammaproteobacteria ...</td>\n",
       "      <td>1</td>\n",
       "      <td>MID9</td>\n",
       "      <td>Control 2</td>\n",
       "      <td>stool</td>\n",
       "    </tr>\n",
       "    <tr>\n",
       "      <th>2368</th>\n",
       "      <td>Bacteria \"Proteobacteria\" Gammaproteobacteria ...</td>\n",
       "      <td>1</td>\n",
       "      <td>MID9</td>\n",
       "      <td>Control 2</td>\n",
       "      <td>stool</td>\n",
       "    </tr>\n",
       "    <tr>\n",
       "      <th>2369</th>\n",
       "      <td>Bacteria \"Proteobacteria\" Gammaproteobacteria ...</td>\n",
       "      <td>1</td>\n",
       "      <td>MID9</td>\n",
       "      <td>Control 2</td>\n",
       "      <td>stool</td>\n",
       "    </tr>\n",
       "    <tr>\n",
       "      <th>2370</th>\n",
       "      <td>Bacteria \"Proteobacteria\" Gammaproteobacteria ...</td>\n",
       "      <td>12</td>\n",
       "      <td>MID9</td>\n",
       "      <td>Control 2</td>\n",
       "      <td>stool</td>\n",
       "    </tr>\n",
       "    <tr>\n",
       "      <th>2371</th>\n",
       "      <td>Bacteria \"Proteobacteria\" Gammaproteobacteria ...</td>\n",
       "      <td>4</td>\n",
       "      <td>MID9</td>\n",
       "      <td>Control 2</td>\n",
       "      <td>stool</td>\n",
       "    </tr>\n",
       "    <tr>\n",
       "      <th>2372</th>\n",
       "      <td>Bacteria \"Proteobacteria\" Gammaproteobacteria ...</td>\n",
       "      <td>805</td>\n",
       "      <td>MID9</td>\n",
       "      <td>Control 2</td>\n",
       "      <td>stool</td>\n",
       "    </tr>\n",
       "    <tr>\n",
       "      <th>2373</th>\n",
       "      <td>Bacteria \"Proteobacteria\" Gammaproteobacteria ...</td>\n",
       "      <td>862</td>\n",
       "      <td>MID9</td>\n",
       "      <td>Control 2</td>\n",
       "      <td>stool</td>\n",
       "    </tr>\n",
       "    <tr>\n",
       "      <th>2374</th>\n",
       "      <td>Bacteria \"Proteobacteria\" Gammaproteobacteria ...</td>\n",
       "      <td>12</td>\n",
       "      <td>MID9</td>\n",
       "      <td>Control 2</td>\n",
       "      <td>stool</td>\n",
       "    </tr>\n",
       "    <tr>\n",
       "      <th>2375</th>\n",
       "      <td>Bacteria \"Proteobacteria\" Gammaproteobacteria ...</td>\n",
       "      <td>3534</td>\n",
       "      <td>MID9</td>\n",
       "      <td>Control 2</td>\n",
       "      <td>stool</td>\n",
       "    </tr>\n",
       "    <tr>\n",
       "      <th>2376</th>\n",
       "      <td>Bacteria \"Proteobacteria\" Gammaproteobacteria ...</td>\n",
       "      <td>4</td>\n",
       "      <td>MID9</td>\n",
       "      <td>Control 2</td>\n",
       "      <td>stool</td>\n",
       "    </tr>\n",
       "    <tr>\n",
       "      <th>2377</th>\n",
       "      <td>Bacteria \"Proteobacteria\" Gammaproteobacteria ...</td>\n",
       "      <td>1</td>\n",
       "      <td>MID9</td>\n",
       "      <td>Control 2</td>\n",
       "      <td>stool</td>\n",
       "    </tr>\n",
       "    <tr>\n",
       "      <th>2378</th>\n",
       "      <td>Bacteria \"Proteobacteria\" Gammaproteobacteria ...</td>\n",
       "      <td>25</td>\n",
       "      <td>MID9</td>\n",
       "      <td>Control 2</td>\n",
       "      <td>stool</td>\n",
       "    </tr>\n",
       "    <tr>\n",
       "      <th>2379</th>\n",
       "      <td>Bacteria \"Proteobacteria\" Gammaproteobacteria ...</td>\n",
       "      <td>2</td>\n",
       "      <td>MID9</td>\n",
       "      <td>Control 2</td>\n",
       "      <td>stool</td>\n",
       "    </tr>\n",
       "    <tr>\n",
       "      <th>2380</th>\n",
       "      <td>Bacteria \"Proteobacteria\" Gammaproteobacteria ...</td>\n",
       "      <td>3</td>\n",
       "      <td>MID9</td>\n",
       "      <td>Control 2</td>\n",
       "      <td>stool</td>\n",
       "    </tr>\n",
       "    <tr>\n",
       "      <th>2381</th>\n",
       "      <td>Bacteria \"Proteobacteria\" Gammaproteobacteria ...</td>\n",
       "      <td>2</td>\n",
       "      <td>MID9</td>\n",
       "      <td>Control 2</td>\n",
       "      <td>stool</td>\n",
       "    </tr>\n",
       "    <tr>\n",
       "      <th>2382</th>\n",
       "      <td>Bacteria \"Proteobacteria\" Gammaproteobacteria ...</td>\n",
       "      <td>1</td>\n",
       "      <td>MID9</td>\n",
       "      <td>Control 2</td>\n",
       "      <td>stool</td>\n",
       "    </tr>\n",
       "    <tr>\n",
       "      <th>2383</th>\n",
       "      <td>Bacteria \"Proteobacteria\" Gammaproteobacteria ...</td>\n",
       "      <td>3</td>\n",
       "      <td>MID9</td>\n",
       "      <td>Control 2</td>\n",
       "      <td>stool</td>\n",
       "    </tr>\n",
       "    <tr>\n",
       "      <th>2384</th>\n",
       "      <td>Bacteria \"Proteobacteria\" Gammaproteobacteria ...</td>\n",
       "      <td>2</td>\n",
       "      <td>MID9</td>\n",
       "      <td>Control 2</td>\n",
       "      <td>stool</td>\n",
       "    </tr>\n",
       "    <tr>\n",
       "      <th>2385</th>\n",
       "      <td>Bacteria \"Proteobacteria\" Gammaproteobacteria ...</td>\n",
       "      <td>1</td>\n",
       "      <td>MID9</td>\n",
       "      <td>Control 2</td>\n",
       "      <td>stool</td>\n",
       "    </tr>\n",
       "    <tr>\n",
       "      <th>2386</th>\n",
       "      <td>Bacteria \"Synergistetes\" Synergistia Synergist...</td>\n",
       "      <td>3</td>\n",
       "      <td>MID9</td>\n",
       "      <td>Control 2</td>\n",
       "      <td>stool</td>\n",
       "    </tr>\n",
       "    <tr>\n",
       "      <th>2387</th>\n",
       "      <td>Bacteria \"Tenericutes\" Mollicutes Anaeroplasma...</td>\n",
       "      <td>1</td>\n",
       "      <td>MID9</td>\n",
       "      <td>Control 2</td>\n",
       "      <td>stool</td>\n",
       "    </tr>\n",
       "    <tr>\n",
       "      <th>2388</th>\n",
       "      <td>Bacteria \"Tenericutes\" Mollicutes Haloplasmata...</td>\n",
       "      <td>11</td>\n",
       "      <td>MID9</td>\n",
       "      <td>Control 2</td>\n",
       "      <td>stool</td>\n",
       "    </tr>\n",
       "    <tr>\n",
       "      <th>2389</th>\n",
       "      <td>Bacteria \"Thermodesulfobacteria\" Thermodesulfo...</td>\n",
       "      <td>1</td>\n",
       "      <td>MID9</td>\n",
       "      <td>Control 2</td>\n",
       "      <td>stool</td>\n",
       "    </tr>\n",
       "    <tr>\n",
       "      <th>2390</th>\n",
       "      <td>Bacteria \"Thermodesulfobacteria\" Thermodesulfo...</td>\n",
       "      <td>1</td>\n",
       "      <td>MID9</td>\n",
       "      <td>Control 2</td>\n",
       "      <td>stool</td>\n",
       "    </tr>\n",
       "    <tr>\n",
       "      <th>2391</th>\n",
       "      <td>Bacteria \"Thermotogae\" Thermotogae Thermotogal...</td>\n",
       "      <td>43</td>\n",
       "      <td>MID9</td>\n",
       "      <td>Control 2</td>\n",
       "      <td>stool</td>\n",
       "    </tr>\n",
       "    <tr>\n",
       "      <th>2392</th>\n",
       "      <td>Bacteria \"Thermotogae\" Thermotogae Thermotogal...</td>\n",
       "      <td>16</td>\n",
       "      <td>MID9</td>\n",
       "      <td>Control 2</td>\n",
       "      <td>stool</td>\n",
       "    </tr>\n",
       "    <tr>\n",
       "      <th>2393</th>\n",
       "      <td>Bacteria \"Verrucomicrobia\" Opitutae Opitutales...</td>\n",
       "      <td>1</td>\n",
       "      <td>MID9</td>\n",
       "      <td>Control 2</td>\n",
       "      <td>stool</td>\n",
       "    </tr>\n",
       "    <tr>\n",
       "      <th>2394</th>\n",
       "      <td>Bacteria Cyanobacteria Cyanobacteria  Chloropl...</td>\n",
       "      <td>1</td>\n",
       "      <td>MID9</td>\n",
       "      <td>Control 2</td>\n",
       "      <td>stool</td>\n",
       "    </tr>\n",
       "    <tr>\n",
       "      <th>2395</th>\n",
       "      <td>Bacteria Cyanobacteria Cyanobacteria  Chloropl...</td>\n",
       "      <td>10</td>\n",
       "      <td>MID9</td>\n",
       "      <td>Control 2</td>\n",
       "      <td>stool</td>\n",
       "    </tr>\n",
       "  </tbody>\n",
       "</table>\n",
       "<p>2396 rows × 5 columns</p>\n",
       "</div>"
      ],
      "text/plain": [
       "                                                      0     1 BARCODE  \\\n",
       "0     Archaea \"Crenarchaeota\" Thermoprotei Desulfuro...     7    MID1   \n",
       "1     Archaea \"Crenarchaeota\" Thermoprotei Desulfuro...     2    MID1   \n",
       "2     Archaea \"Crenarchaeota\" Thermoprotei Sulfoloba...     3    MID1   \n",
       "3     Archaea \"Crenarchaeota\" Thermoprotei Thermopro...     3    MID1   \n",
       "4     Archaea \"Euryarchaeota\" \"Methanomicrobia\" Meth...     7    MID1   \n",
       "5     Archaea \"Euryarchaeota\" \"Methanomicrobia\" Meth...     1    MID1   \n",
       "6     Archaea \"Euryarchaeota\" \"Methanomicrobia\" Meth...     1    MID1   \n",
       "7     Archaea \"Euryarchaeota\" Archaeoglobi Archaeogl...     1    MID1   \n",
       "8     Archaea \"Euryarchaeota\" Archaeoglobi Archaeogl...     1    MID1   \n",
       "9     Archaea \"Euryarchaeota\" Halobacteria Halobacte...     1    MID1   \n",
       "10    Archaea \"Euryarchaeota\" Halobacteria Halobacte...     4    MID1   \n",
       "11    Archaea \"Euryarchaeota\" Halobacteria Halobacte...     1    MID1   \n",
       "12    Archaea \"Euryarchaeota\" Halobacteria Halobacte...     2    MID1   \n",
       "13    Archaea \"Euryarchaeota\" Halobacteria Halobacte...     4    MID1   \n",
       "14    Archaea \"Euryarchaeota\" Methanococci Methanoco...     1    MID1   \n",
       "15    Archaea \"Euryarchaeota\" Methanopyri Methanopyr...    12    MID1   \n",
       "16    Archaea \"Euryarchaeota\" Thermoplasmata Thermop...     2    MID1   \n",
       "17    Bacteria \"Actinobacteria\" Actinobacteria Actin...     2    MID1   \n",
       "18    Bacteria \"Actinobacteria\" Actinobacteria Actin...     1    MID1   \n",
       "19    Bacteria \"Actinobacteria\" Actinobacteria Actin...     1    MID1   \n",
       "20    Bacteria \"Actinobacteria\" Actinobacteria Actin...     1    MID1   \n",
       "21    Bacteria \"Actinobacteria\" Actinobacteria Actin...     2    MID1   \n",
       "22    Bacteria \"Actinobacteria\" Actinobacteria Actin...    53    MID1   \n",
       "23    Bacteria \"Actinobacteria\" Actinobacteria Actin...     1    MID1   \n",
       "24    Bacteria \"Actinobacteria\" Actinobacteria Actin...     2    MID1   \n",
       "25    Bacteria \"Actinobacteria\" Actinobacteria Actin...     3    MID1   \n",
       "26    Bacteria \"Actinobacteria\" Actinobacteria Actin...     1    MID1   \n",
       "27    Bacteria \"Actinobacteria\" Actinobacteria Actin...    99    MID1   \n",
       "28    Bacteria \"Actinobacteria\" Actinobacteria Actin...    17    MID1   \n",
       "29    Bacteria \"Actinobacteria\" Actinobacteria Actin...     2    MID1   \n",
       "...                                                 ...   ...     ...   \n",
       "2366  Bacteria \"Proteobacteria\" Gammaproteobacteria ...    10    MID9   \n",
       "2367  Bacteria \"Proteobacteria\" Gammaproteobacteria ...     1    MID9   \n",
       "2368  Bacteria \"Proteobacteria\" Gammaproteobacteria ...     1    MID9   \n",
       "2369  Bacteria \"Proteobacteria\" Gammaproteobacteria ...     1    MID9   \n",
       "2370  Bacteria \"Proteobacteria\" Gammaproteobacteria ...    12    MID9   \n",
       "2371  Bacteria \"Proteobacteria\" Gammaproteobacteria ...     4    MID9   \n",
       "2372  Bacteria \"Proteobacteria\" Gammaproteobacteria ...   805    MID9   \n",
       "2373  Bacteria \"Proteobacteria\" Gammaproteobacteria ...   862    MID9   \n",
       "2374  Bacteria \"Proteobacteria\" Gammaproteobacteria ...    12    MID9   \n",
       "2375  Bacteria \"Proteobacteria\" Gammaproteobacteria ...  3534    MID9   \n",
       "2376  Bacteria \"Proteobacteria\" Gammaproteobacteria ...     4    MID9   \n",
       "2377  Bacteria \"Proteobacteria\" Gammaproteobacteria ...     1    MID9   \n",
       "2378  Bacteria \"Proteobacteria\" Gammaproteobacteria ...    25    MID9   \n",
       "2379  Bacteria \"Proteobacteria\" Gammaproteobacteria ...     2    MID9   \n",
       "2380  Bacteria \"Proteobacteria\" Gammaproteobacteria ...     3    MID9   \n",
       "2381  Bacteria \"Proteobacteria\" Gammaproteobacteria ...     2    MID9   \n",
       "2382  Bacteria \"Proteobacteria\" Gammaproteobacteria ...     1    MID9   \n",
       "2383  Bacteria \"Proteobacteria\" Gammaproteobacteria ...     3    MID9   \n",
       "2384  Bacteria \"Proteobacteria\" Gammaproteobacteria ...     2    MID9   \n",
       "2385  Bacteria \"Proteobacteria\" Gammaproteobacteria ...     1    MID9   \n",
       "2386  Bacteria \"Synergistetes\" Synergistia Synergist...     3    MID9   \n",
       "2387  Bacteria \"Tenericutes\" Mollicutes Anaeroplasma...     1    MID9   \n",
       "2388  Bacteria \"Tenericutes\" Mollicutes Haloplasmata...    11    MID9   \n",
       "2389  Bacteria \"Thermodesulfobacteria\" Thermodesulfo...     1    MID9   \n",
       "2390  Bacteria \"Thermodesulfobacteria\" Thermodesulfo...     1    MID9   \n",
       "2391  Bacteria \"Thermotogae\" Thermotogae Thermotogal...    43    MID9   \n",
       "2392  Bacteria \"Thermotogae\" Thermotogae Thermotogal...    16    MID9   \n",
       "2393  Bacteria \"Verrucomicrobia\" Opitutae Opitutales...     1    MID9   \n",
       "2394  Bacteria Cyanobacteria Cyanobacteria  Chloropl...     1    MID9   \n",
       "2395  Bacteria Cyanobacteria Cyanobacteria  Chloropl...    10    MID9   \n",
       "\n",
       "                   GROUP   SAMPLE  \n",
       "0     EXTRACTION CONTROL  unknown  \n",
       "1     EXTRACTION CONTROL  unknown  \n",
       "2     EXTRACTION CONTROL  unknown  \n",
       "3     EXTRACTION CONTROL  unknown  \n",
       "4     EXTRACTION CONTROL  unknown  \n",
       "5     EXTRACTION CONTROL  unknown  \n",
       "6     EXTRACTION CONTROL  unknown  \n",
       "7     EXTRACTION CONTROL  unknown  \n",
       "8     EXTRACTION CONTROL  unknown  \n",
       "9     EXTRACTION CONTROL  unknown  \n",
       "10    EXTRACTION CONTROL  unknown  \n",
       "11    EXTRACTION CONTROL  unknown  \n",
       "12    EXTRACTION CONTROL  unknown  \n",
       "13    EXTRACTION CONTROL  unknown  \n",
       "14    EXTRACTION CONTROL  unknown  \n",
       "15    EXTRACTION CONTROL  unknown  \n",
       "16    EXTRACTION CONTROL  unknown  \n",
       "17    EXTRACTION CONTROL  unknown  \n",
       "18    EXTRACTION CONTROL  unknown  \n",
       "19    EXTRACTION CONTROL  unknown  \n",
       "20    EXTRACTION CONTROL  unknown  \n",
       "21    EXTRACTION CONTROL  unknown  \n",
       "22    EXTRACTION CONTROL  unknown  \n",
       "23    EXTRACTION CONTROL  unknown  \n",
       "24    EXTRACTION CONTROL  unknown  \n",
       "25    EXTRACTION CONTROL  unknown  \n",
       "26    EXTRACTION CONTROL  unknown  \n",
       "27    EXTRACTION CONTROL  unknown  \n",
       "28    EXTRACTION CONTROL  unknown  \n",
       "29    EXTRACTION CONTROL  unknown  \n",
       "...                  ...      ...  \n",
       "2366           Control 2    stool  \n",
       "2367           Control 2    stool  \n",
       "2368           Control 2    stool  \n",
       "2369           Control 2    stool  \n",
       "2370           Control 2    stool  \n",
       "2371           Control 2    stool  \n",
       "2372           Control 2    stool  \n",
       "2373           Control 2    stool  \n",
       "2374           Control 2    stool  \n",
       "2375           Control 2    stool  \n",
       "2376           Control 2    stool  \n",
       "2377           Control 2    stool  \n",
       "2378           Control 2    stool  \n",
       "2379           Control 2    stool  \n",
       "2380           Control 2    stool  \n",
       "2381           Control 2    stool  \n",
       "2382           Control 2    stool  \n",
       "2383           Control 2    stool  \n",
       "2384           Control 2    stool  \n",
       "2385           Control 2    stool  \n",
       "2386           Control 2    stool  \n",
       "2387           Control 2    stool  \n",
       "2388           Control 2    stool  \n",
       "2389           Control 2    stool  \n",
       "2390           Control 2    stool  \n",
       "2391           Control 2    stool  \n",
       "2392           Control 2    stool  \n",
       "2393           Control 2    stool  \n",
       "2394           Control 2    stool  \n",
       "2395           Control 2    stool  \n",
       "\n",
       "[2396 rows x 5 columns]"
      ]
     },
     "execution_count": 13,
     "metadata": {},
     "output_type": "execute_result"
    }
   ],
   "source": [
    "data"
   ]
  },
  {
   "cell_type": "markdown",
   "metadata": {
    "collapsed": true
   },
   "source": [
    "*Check for unique index*"
   ]
  },
  {
   "cell_type": "code",
   "execution_count": 15,
   "metadata": {},
   "outputs": [
    {
     "data": {
      "text/plain": [
       "True"
      ]
     },
     "execution_count": 15,
     "metadata": {},
     "output_type": "execute_result"
    }
   ],
   "source": [
    "data.index.is_unique"
   ]
  },
  {
   "cell_type": "markdown",
   "metadata": {},
   "source": [
    "## Task 3. Class War in Titanic\n",
    "\n",
    "Use pandas to import the data file `Data/titanic.xls`. It contains data on all the passengers that travelled on the Titanic."
   ]
  },
  {
   "cell_type": "code",
   "execution_count": 353,
   "metadata": {
    "collapsed": true,
    "scrolled": false
   },
   "outputs": [],
   "source": [
    "from IPython.core.display import HTML\n",
    "titanic_html = HTML(filename=DATA_FOLDER+'/titanic.html')"
   ]
  },
  {
   "cell_type": "markdown",
   "metadata": {},
   "source": [
    "For each of the following questions state clearly your assumptions and discuss your findings:\n",
    "1. Describe the *type* and the *value range* of each attribute. Indicate and transform the attributes that can be `Categorical`. \n",
    "2. Plot histograms for the *travel class*, *embarkation port*, *sex* and *age* attributes. For the latter one, use *discrete decade intervals*. \n",
    "3. Calculate the proportion of passengers by *cabin floor*. Present your results in a *pie chart*.\n",
    "4. For each *travel class*, calculate the proportion of the passengers that survived. Present your results in *pie charts*.\n",
    "5. Calculate the proportion of the passengers that survived by *travel class* and *sex*. Present your results in *a single histogram*.\n",
    "6. Create 2 equally populated *age categories* and calculate survival proportions by *age category*, *travel class* and *sex*. Present your results in a `DataFrame` with unique index."
   ]
  },
  {
   "cell_type": "markdown",
   "metadata": {},
   "source": [
    "Here we are going to calculate and store in series_ch proportions of passangers by each floor. We are count one person that has three cabines on the same floor, like cabin[1] = \"C22 C26\"\n",
    "as one person and not three persons. We will present the results as pie chart."
   ]
  },
  {
   "cell_type": "code",
   "execution_count": 354,
   "metadata": {},
   "outputs": [
    {
     "data": {
      "image/png": "[encoded data removed]",
      "text/plain": [
       "<matplotlib.figure.Figure at 0x107fad68>"
      ]
     },
     "metadata": {},
     "output_type": "display_data"
    }
   ],
   "source": [
    "# Write your answer here\n",
    "import pandas as pd\n",
    "import numpy as np\n",
    "\n",
    "titanic = pd.read_excel(DATA_FOLDER + \"/titanic.xls\") \n",
    "ch_key = [\"T\",\"A\",\"B\",\"C\",\"D\",\"E\",\"F\",\"G\"] # this is the signs for etages\n",
    "ch_count = [0]*len(ch_key) # it is total number of different persons on each floor\n",
    "ch_flag = [0]*len(ch_key) # this help me to count one person that has three cabines on the same floor, like cabin[1] = \"C22 C26\"\n",
    "# as one person and not three persons\n",
    "series_ch = pd.Series(ch_count, index = ch_key)\n",
    "series_flag = pd.Series(ch_flag, index = ch_key)\n",
    "titanic_cab = titanic[[\"cabin\"]] \n",
    "titanic_cab = titanic_cab.dropna() # dropping cabins with NaN values\n",
    "\n",
    "pieces = [] # that is for string cabin[1]= \"C22 C26\" separating in first letters like CC\n",
    "# also there exist people like cabin[605] = \"F G63\" so we should check all first letter\n",
    "\n",
    "for one_cab in titanic_cab.cabin:\n",
    "    pieces = [x[0] for x in one_cab.split()] # taking first letters\n",
    "    for index, element in enumerate(pieces): \n",
    "        if (one_cab.count(element)>=1 & series_flag[element]==0): # updating just once series_flag for each and every floors and & element in ch_key\n",
    "            series_flag[element]=1\n",
    "    pieces=[]\n",
    "    for index in ch_key:\n",
    "        series_ch[index]+=series_flag[index] # updating total number of people before taking data of next people\n",
    "        series_flag[index]=0 \n",
    "\n",
    "import matplotlib.pyplot as plt\n",
    "labels=[\"T\",\"A\",\"B\",\"C\",\"D\",\"E\",\"F\",\"G\"]\n",
    "sizes = series_ch.values\n",
    "explode = (0.1, 0, 0 , 0, 0, 0, 0, 0)  # just first label little larger\n",
    "fig1, ax1 = plt.subplots()\n",
    "ax1.pie(sizes, explode=explode, labels=labels, autopct='%1.1f%%', shadow=True, startangle=90)\n",
    "ax1.axis('equal')  # Equal aspect ratio ensures that pie is drawn as a circle.\n",
    "plt.title(\"Passangers by floor\")\n",
    "plt.show()"
   ]
  },
  {
   "cell_type": "code",
   "execution_count": null,
   "metadata": {
    "collapsed": true
   },
   "outputs": [],
   "source": [
    "Here we calculate and plot survival percentage for each class"
   ]
  },
  {
   "cell_type": "code",
   "execution_count": 355,
   "metadata": {},
   "outputs": [
    {
     "name": "stdout",
     "output_type": "stream",
     "text": [
      "survived         0         1\n",
      "pclass                      \n",
      "1         0.380805  0.619195\n",
      "2         0.570397  0.429603\n",
      "3         0.744711  0.255289\n"
     ]
    },
    {
     "data": {
      "image/png": "[encoded data removed]",
      "text/plain": [
       "<matplotlib.figure.Figure at 0xce004a8>"
      ]
     },
     "metadata": {},
     "output_type": "display_data"
    },
    {
     "data": {
      "image/png": "[encoded data removed]",
      "text/plain": [
       "<matplotlib.figure.Figure at 0xdb76898>"
      ]
     },
     "metadata": {},
     "output_type": "display_data"
    },
    {
     "data": {
      "image/png": "[encoded data removed]",
      "text/plain": [
       "<matplotlib.figure.Figure at 0xd5376d8>"
      ]
     },
     "metadata": {},
     "output_type": "display_data"
    }
   ],
   "source": [
    "cross_class_sur = pd.crosstab(titanic.pclass, titanic.survived, margins=False, normalize='index')\n",
    "# print(cross_class_sur)\n",
    "\n",
    "import matplotlib.pyplot as plt\n",
    "\n",
    "# Pie chart survival by class\n",
    "labels = 'Survived', 'Dead'\n",
    "for i in range(cross_class_sur.shape[0]): # for each class take the two numbers that represent ratio of survived people\n",
    "    sizes = cross_class_sur.iloc[i] # this is taking numbers\n",
    "    explode = (0, 0.1)\n",
    "    colors = (\"red\",\"blue\")\n",
    "    fig1, ax1 = plt.subplots()\n",
    "    ax1.pie(sizes, colors=colors, explode=explode, labels=labels, autopct='%1.1f%%',\n",
    "        shadow=True, startangle=90)\n",
    "    ax1.axis('equal')  # Equal aspect ratio ensures that pie is drawn as a circle.\n",
    "    plt.title(str(i+1)+(i==0)*'st'+(i==1)*'nd'+(i==2)*\"rd\"+ \" class survival percentage\") # writing title for each class is different\n",
    "    plt.show()"
   ]
  },
  {
   "cell_type": "markdown",
   "metadata": {},
   "source": [
    "Here we are calculating plotting survival percentage looking at sex and class at the same time as pie chart."
   ]
  },
  {
   "cell_type": "code",
   "execution_count": 356,
   "metadata": {},
   "outputs": [
    {
     "data": {
      "image/png": "[encoded data removed]",
      "text/plain": [
       "<matplotlib.figure.Figure at 0xcca33c8>"
      ]
     },
     "metadata": {},
     "output_type": "display_data"
    },
    {
     "data": {
      "image/png": "[encoded data removed]",
      "text/plain": [
       "<matplotlib.figure.Figure at 0xc083a90>"
      ]
     },
     "metadata": {},
     "output_type": "display_data"
    },
    {
     "data": {
      "image/png": "[encoded data removed]",
      "text/plain": [
       "<matplotlib.figure.Figure at 0xceb9eb8>"
      ]
     },
     "metadata": {},
     "output_type": "display_data"
    },
    {
     "data": {
      "image/png": "[encoded data removed]",
      "text/plain": [
       "<matplotlib.figure.Figure at 0xced4a90>"
      ]
     },
     "metadata": {},
     "output_type": "display_data"
    },
    {
     "data": {
      "image/png": "[encoded data removed]",
      "text/plain": [
       "<matplotlib.figure.Figure at 0xd963da0>"
      ]
     },
     "metadata": {},
     "output_type": "display_data"
    },
    {
     "data": {
      "image/png": "[encoded data removed]",
      "text/plain": [
       "<matplotlib.figure.Figure at 0xab6e320>"
      ]
     },
     "metadata": {},
     "output_type": "display_data"
    }
   ],
   "source": [
    "import matplotlib.pyplot as plt # just to ensure that it will be drawn, i know that i already imported it\n",
    "%matplotlib inline\n",
    "               \n",
    "cross_class_sex = pd.crosstab([titanic.pclass, titanic.sex], titanic.survived, margins=False, normalize='index')\n",
    "# Pie chart survival per class and sex\n",
    "labels ='Dead' , 'Survived'\n",
    "for i in range(cross_class_sex.shape[0]): # for each class and sex taking numbers that represent survived\n",
    "    sizes = cross_class_sex.iloc[i] # taking these numbers\n",
    "    explode = (0.1, 0) \n",
    "    colors = (\"red\",\"blue\")\n",
    "    fig1, ax1 = plt.subplots()\n",
    "    ax1.pie(sizes,colors=colors, explode=explode, labels=labels, autopct='%1.1f%%',\n",
    "        shadow=True, startangle=90)\n",
    "    ax1.axis('equal')  # Equal aspect ratio ensures that pie is drawn as a circle.\n",
    "    plt.title(str((i+1)*(i==0)+((i+2)/2)*(i!=0))+((i==0)+(i==1))*'st'+((i==2)+(i==3))*'nd'+((i==4) + (i==5))*\"rd\"+ \" class survival percentage for \"+((i==0)+(i==2)+(i==4))*\"fe\"+\"male\")\n",
    "    plt.show()"
   ]
  },
  {
   "cell_type": "markdown",
   "metadata": {},
   "source": [
    "Here we are presenting same data as histogram"
   ]
  },
  {
   "cell_type": "code",
   "execution_count": 357,
   "metadata": {},
   "outputs": [
    {
     "data": {
      "text/plain": [
       "<matplotlib.figure.Figure at 0xb8ea320>"
      ]
     },
     "metadata": {},
     "output_type": "display_data"
    },
    {
     "data": {
      "image/png": "[encoded data removed]",
      "text/plain": [
       "<matplotlib.figure.Figure at 0x107d83c8>"
      ]
     },
     "metadata": {},
     "output_type": "display_data"
    }
   ],
   "source": [
    "# Histogram, survival percent by travel and class\n",
    "import matplotlib.pyplot as plt\n",
    "%matplotlib inline\n",
    "plt.figure()\n",
    "cross_class_sex_s = pd.crosstab([titanic.pclass, titanic.sex], titanic.survived.astype(bool), margins=False, normalize=\"index\")*100\n",
    "cross_class_sex_s.plot(kind='bar', stacked=True, color=['red','blue'], grid=False)\n",
    "plt.title('Survival percent by travel class and sex')\n",
    "plt.show()"
   ]
  },
  {
   "cell_type": "markdown",
   "metadata": {},
   "source": [
    "We are printing types of all different kind of data, min i max of their values. We are keeping some data for \n",
    "calculating survival percentage looking at the same time at class, sex and age."
   ]
  },
  {
   "cell_type": "code",
   "execution_count": 358,
   "metadata": {},
   "outputs": [
    {
     "name": "stdout",
     "output_type": "stream",
     "text": [
      "pclass         int64\n",
      "survived       int64\n",
      "name          object\n",
      "sex           object\n",
      "age          float64\n",
      "sibsp          int64\n",
      "parch          int64\n",
      "ticket        object\n",
      "fare         float64\n",
      "cabin         object\n",
      "embarked      object\n",
      "boat          object\n",
      "body         float64\n",
      "home.dest     object\n",
      "dtype: object\n",
      "pclass                                 3\n",
      "survived                               1\n",
      "name         van Melkebeke, Mr. Philemon\n",
      "sex                                 male\n",
      "age                                   80\n",
      "sibsp                                  8\n",
      "parch                                  9\n",
      "ticket                         WE/P 5735\n",
      "fare                             512.329\n",
      "cabin                                  T\n",
      "embarked                               S\n",
      "boat                                   D\n",
      "body                                 328\n",
      "home.dest            Zurich, Switzerland\n",
      "dtype: object\n",
      "pclass                         1\n",
      "survived                       0\n",
      "name         Abbing, Mr. Anthony\n",
      "sex                       female\n",
      "age                       0.1667\n",
      "sibsp                          0\n",
      "parch                          0\n",
      "ticket                       695\n",
      "fare                           0\n",
      "cabin                        inf\n",
      "embarked                     inf\n",
      "boat                           2\n",
      "body                           1\n",
      "home.dest                    inf\n",
      "dtype: object\n"
     ]
    }
   ],
   "source": [
    "# writing type and range of data\n",
    "print(titanic.dtypes)\n",
    "print(titanic.max(axis=0)) \n",
    "print(titanic.min(axis=0))\n",
    "# we can store age as category, because now it is stored as float, and for this analysis is not so important number of ages\n",
    "\n",
    "# keeping data for making two age categories, without NaN values because we will use get_dummies\n",
    "titanic_age_notna = titanic[\"age\"].dropna() # for making dataframe and crosstable for part six, with two age categories\n",
    "index_of_age = list(titanic_age_notna.index.values)\n",
    "titanic_part_six = pd.DataFrame(list(zip(titanic_age_notna, titanic.pclass.iloc[index_of_age], titanic.sex.iloc[index_of_age], titanic.survived.iloc[index_of_age])))\n",
    "titanic_part_six.columns = ['age', 'pclass', 'sex','survived']\n",
    "# print(titanic_age_notna)"
   ]
  },
  {
   "cell_type": "markdown",
   "metadata": {},
   "source": [
    "Plotting histogram of number of passangers with respect to 1) age 2) travel_class 3) embarkation point 4) sex"
   ]
  },
  {
   "cell_type": "code",
   "execution_count": 359,
   "metadata": {},
   "outputs": [
    {
     "data": {
      "text/plain": [
       "<matplotlib.figure.Figure at 0xbcf6da0>"
      ]
     },
     "metadata": {},
     "output_type": "display_data"
    },
    {
     "data": {
      "image/png": "[encoded data removed]",
      "text/plain": [
       "<matplotlib.figure.Figure at 0xdb7d908>"
      ]
     },
     "metadata": {},
     "output_type": "display_data"
    },
    {
     "data": {
      "text/plain": [
       "<matplotlib.figure.Figure at 0xb8faa90>"
      ]
     },
     "metadata": {},
     "output_type": "display_data"
    },
    {
     "data": {
      "image/png": "[encoded data removed]",
      "text/plain": [
       "<matplotlib.figure.Figure at 0xbf37e48>"
      ]
     },
     "metadata": {},
     "output_type": "display_data"
    },
    {
     "data": {
      "image/png": "[encoded data removed]",
      "text/plain": [
       "<matplotlib.figure.Figure at 0xcf089e8>"
      ]
     },
     "metadata": {},
     "output_type": "display_data"
    },
    {
     "data": {
      "image/png": "[encoded data removed]",
      "text/plain": [
       "<matplotlib.figure.Figure at 0xc3395f8>"
      ]
     },
     "metadata": {},
     "output_type": "display_data"
    }
   ],
   "source": [
    "# Plotting histogram of number of passangers with respect to 1) age 2) travel_class 3) embarkation point 4) sex\n",
    "import matplotlib.pyplot as plt\n",
    "%matplotlib inline\n",
    "\n",
    "plt.figure();\n",
    "titanic.hist(column=\"age\", bins=[0,10,20,30,40,50,60,70,80,90])\n",
    "plt.title('Number of passengers by age')\n",
    "plt.xlabel('Age')\n",
    "plt.ylabel('Number of passangers')\n",
    "plt.show()\n",
    "\n",
    "\n",
    "# ploting histogram, rot=0 for horizontal text\n",
    "plt.figure();\n",
    "titanic.hist(column=\"pclass\")\n",
    "plt.xlim([1, 3])\n",
    "# Set the title and labels\n",
    "plt.title('Number of passengers by travel class')\n",
    "plt.xlabel('Number of class')\n",
    "plt.ylabel('Number of passangers')\n",
    "plt.show()\n",
    "\n",
    "\n",
    "# ploting histogram, rot=0 for horizontal text\n",
    "plt.figure();\n",
    "titanic.embarked.value_counts().reindex(titanic.embarked[:len(titanic.embarked.value_counts())])\n",
    "titanic.embarked.value_counts().plot(kind='bar', grid=True, rot=0)\n",
    "# Set the title and labels\n",
    "plt.title('Number of passengers by embarkation point')\n",
    "plt.xlabel('Embarkation')\n",
    "plt.ylabel('Number of passangers')\n",
    "plt.show()\n",
    "\n",
    "\n",
    "# ploting histogram, rot=0 for horizontal text\n",
    "plt.figure();\n",
    "titanic.sex.value_counts().reindex(titanic.sex[:len(titanic.sex.value_counts())])\n",
    "titanic.sex.value_counts().plot(kind='bar', grid=True, rot=0)\n",
    "# Set the title and labels\n",
    "plt.title('Number of passengers by sex')\n",
    "plt.xlabel('Sex')\n",
    "plt.ylabel('Number of passangers')\n",
    "plt.show()\n",
    "\n",
    "# finally putting ages in categories, it is important for later analysis that we have made a copy of ages as numeric type\n",
    "# for drawing histogram is also important that type of ages is numeric type\n",
    "titanic=titanic.fillna({\"age\":0})\n",
    "titanic[\"age\"]= pd.cut(titanic[\"age\"],[0,10,20,30,40,50,60,70,80,90])\n"
   ]
  },
  {
   "cell_type": "markdown",
   "metadata": {
    "collapsed": true
   },
   "source": [
    "Here we are making two equal populated age categories with no NaN values, and the category will be written as 1 for young, and 2 for old "
   ]
  },
  {
   "cell_type": "code",
   "execution_count": 360,
   "metadata": {
    "collapsed": true
   },
   "outputs": [],
   "source": [
    "# We have this notation in order to calculate easier survival percent using crosstable\n",
    "# If we do not want this we should use the groupby and function apply \n",
    "quantiles = pd.qcut(titanic_part_six.age, 2)\n",
    "df_dummies = pd.get_dummies(quantiles)\n",
    "# find\n",
    "index_first_cat = (np.where(df_dummies.iloc[:,0]==1))\n",
    "#print(len(index_first_cat))\n",
    "index_sec_cat = (np.where(df_dummies.iloc[:,1]==1))\n",
    "#print(len(index_sec_cat))\n",
    "titanic_part_six.age.iloc[index_first_cat] = 1\n",
    "titanic_part_six.age.iloc[index_sec_cat] = 2"
   ]
  },
  {
   "cell_type": "markdown",
   "metadata": {},
   "source": [
    "Plotting histograms that represent survival percent for each class, each sex and each age category"
   ]
  },
  {
   "cell_type": "code",
   "execution_count": 361,
   "metadata": {},
   "outputs": [
    {
     "data": {
      "text/plain": [
       "<matplotlib.figure.Figure at 0x1018cc18>"
      ]
     },
     "metadata": {},
     "output_type": "display_data"
    },
    {
     "data": {
      "image/png": "[encoded data removed]",
      "text/plain": [
       "<matplotlib.figure.Figure at 0xd5c1ac8>"
      ]
     },
     "metadata": {},
     "output_type": "display_data"
    },
    {
     "data": {
      "text/plain": [
       "<matplotlib.figure.Figure at 0xc2316a0>"
      ]
     },
     "metadata": {},
     "output_type": "display_data"
    },
    {
     "data": {
      "image/png": "[encoded data removed]",
      "text/plain": [
       "<matplotlib.figure.Figure at 0xad14668>"
      ]
     },
     "metadata": {},
     "output_type": "display_data"
    },
    {
     "data": {
      "text/plain": [
       "<matplotlib.figure.Figure at 0x10d8b5f8>"
      ]
     },
     "metadata": {},
     "output_type": "display_data"
    },
    {
     "data": {
      "image/png": "[encoded data removed]",
      "text/plain": [
       "<matplotlib.figure.Figure at 0xc23d630>"
      ]
     },
     "metadata": {},
     "output_type": "display_data"
    }
   ],
   "source": [
    "# Plotting histograms that represent survival percent for each class, each sex and each age category\n",
    "\n",
    "import matplotlib.pyplot as plt\n",
    "%matplotlib inline\n",
    "plt.figure();\n",
    "cross_pclass_s = pd.crosstab(titanic_part_six.pclass, titanic_part_six.survived, margins=False, normalize='index')*100\n",
    "cross_pclass_s.plot(kind='bar', stacked=True, color=['red','blue'], grid=False)\n",
    "plt.title('Survival percent by travel class')\n",
    "plt.show()\n",
    "\n",
    "plt.figure()\n",
    "cross_sex_s = pd.crosstab(titanic_part_six.sex, titanic_part_six.survived, margins=False, normalize='index')*100\n",
    "cross_sex_s.plot(kind='bar', stacked=True, color=['red','blue'], grid=False)\n",
    "plt.title('Survival percent by sex')\n",
    "plt.show()\n",
    "\n",
    "plt.figure()\n",
    "cross_age_s = pd.crosstab(titanic_part_six.age, titanic_part_six.survived, margins=False, normalize='index')*100\n",
    "cross_age_s.plot(kind='bar', stacked=True, color=['red','blue'], grid=False)\n",
    "plt.title('Survival percent by age category')\n",
    "plt.show()\n"
   ]
  },
  {
   "cell_type": "markdown",
   "metadata": {},
   "source": [
    "Plotting histogram where we represent survival for each class, sex and age category"
   ]
  },
  {
   "cell_type": "code",
   "execution_count": 362,
   "metadata": {},
   "outputs": [
    {
     "data": {
      "text/plain": [
       "<matplotlib.figure.Figure at 0xf56bdd8>"
      ]
     },
     "metadata": {},
     "output_type": "display_data"
    },
    {
     "data": {
      "image/png": "[encoded data removed]",
      "text/plain": [
       "<matplotlib.figure.Figure at 0xcf33b70>"
      ]
     },
     "metadata": {},
     "output_type": "display_data"
    }
   ],
   "source": [
    "# Plotting histogram where we represent survival for each class, sex and age category\n",
    "\n",
    "import matplotlib.pyplot as plt\n",
    "%matplotlib inline\n",
    "\n",
    "plt.figure();\n",
    "cross_classexindex_s = pd.crosstab([titanic_part_six.pclass, titanic_part_six.sex, titanic_part_six.age], titanic_part_six.survived, margins=False, normalize='index')*100\n",
    "# print(cross_classexindex_s)\n",
    "cross_classexindex_s.plot(kind='bar', stacked=True, color=['red','blue'], grid=False)\n",
    "plt.title('Survival percent by travel class, sex, age category')\n",
    "plt.show()\n"
   ]
  },
  {
   "cell_type": "markdown",
   "metadata": {
    "collapsed": true
   },
   "source": [
    "Storing age as two equal populated categories"
   ]
  },
  {
   "cell_type": "code",
   "execution_count": 363,
   "metadata": {},
   "outputs": [
    {
     "data": {
      "text/html": [
       "<div>\n",
       "<style>\n",
       "    .dataframe thead tr:only-child th {\n",
       "        text-align: right;\n",
       "    }\n",
       "\n",
       "    .dataframe thead th {\n",
       "        text-align: left;\n",
       "    }\n",
       "\n",
       "    .dataframe tbody tr th {\n",
       "        vertical-align: top;\n",
       "    }\n",
       "</style>\n",
       "<table border=\"1\" class=\"dataframe\">\n",
       "  <thead>\n",
       "    <tr style=\"text-align: right;\">\n",
       "      <th></th>\n",
       "      <th>age</th>\n",
       "      <th>pclass</th>\n",
       "      <th>sex</th>\n",
       "      <th>survived</th>\n",
       "    </tr>\n",
       "  </thead>\n",
       "  <tbody>\n",
       "    <tr>\n",
       "      <th>0</th>\n",
       "      <td>(28.0, 80.0]</td>\n",
       "      <td>1</td>\n",
       "      <td>female</td>\n",
       "      <td>1</td>\n",
       "    </tr>\n",
       "    <tr>\n",
       "      <th>1</th>\n",
       "      <td>(0.166, 28.0]</td>\n",
       "      <td>1</td>\n",
       "      <td>male</td>\n",
       "      <td>1</td>\n",
       "    </tr>\n",
       "    <tr>\n",
       "      <th>2</th>\n",
       "      <td>(0.166, 28.0]</td>\n",
       "      <td>1</td>\n",
       "      <td>female</td>\n",
       "      <td>0</td>\n",
       "    </tr>\n",
       "    <tr>\n",
       "      <th>3</th>\n",
       "      <td>(28.0, 80.0]</td>\n",
       "      <td>1</td>\n",
       "      <td>male</td>\n",
       "      <td>0</td>\n",
       "    </tr>\n",
       "    <tr>\n",
       "      <th>4</th>\n",
       "      <td>(0.166, 28.0]</td>\n",
       "      <td>1</td>\n",
       "      <td>female</td>\n",
       "      <td>0</td>\n",
       "    </tr>\n",
       "  </tbody>\n",
       "</table>\n",
       "</div>"
      ],
      "text/plain": [
       "             age  pclass     sex  survived\n",
       "0   (28.0, 80.0]       1  female         1\n",
       "1  (0.166, 28.0]       1    male         1\n",
       "2  (0.166, 28.0]       1  female         0\n",
       "3   (28.0, 80.0]       1    male         0\n",
       "4  (0.166, 28.0]       1  female         0"
      ]
     },
     "execution_count": 363,
     "metadata": {},
     "output_type": "execute_result"
    }
   ],
   "source": [
    "# Storing age as two equal populated categories\n",
    "titanic_part_six[\"age\"] = pd.qcut(titanic_age_notna,2) # because the numbers must be different, we are calling on titanic_aga_notna\n",
    "# titanic_part_six.head()\n",
    "# titanic_part_six.index.unique()"
   ]
  },
  {
   "cell_type": "code",
   "execution_count": null,
   "metadata": {
    "collapsed": true
   },
   "outputs": [],
   "source": []
  }
 ],
 "metadata": {
  "kernelspec": {
   "display_name": "Python 3",
   "language": "python",
   "name": "python3"
  },
  "language_info": {
   "codemirror_mode": {
    "name": "ipython",
    "version": 3
   },
   "file_extension": ".py",
   "mimetype": "text/x-python",
   "name": "python",
   "nbconvert_exporter": "python",
   "pygments_lexer": "ipython3",
   "version": "3.6.1"
  }
 },
 "nbformat": 4,
 "nbformat_minor": 2
}
