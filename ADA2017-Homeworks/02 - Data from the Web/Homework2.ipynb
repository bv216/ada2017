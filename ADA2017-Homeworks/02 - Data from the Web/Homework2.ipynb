{
 "cells": [
  {
   "cell_type": "markdown",
   "metadata": {},
   "source": [
    "# 02 - Data from the Web\n",
    "\n",
    "## Deadline\n",
    "Wednesday October 25, 2017 at 11:59PM\n",
    "\n",
    "## Important Notes\n",
    "* Make sure you push on GitHub your Notebook with all the cells already evaluated (i.e., you don't want your colleagues to generate unnecessary Web traffic during the peer review)\n",
    "* Don't forget to add a textual description of your thought process, the assumptions you made, and the solution you plan to implement!\n",
    "* Please write all your comments in English, and use meaningful variable names in your code.\n",
    "\n",
    "## Background\n",
    "In this homework we will extract interesting information from www.topuniversities.com and www.timeshighereducation.com, two platforms that maintain a global ranking of worldwide universities. This ranking is not offered as a downloadable dataset, so you will have to find a way to scrape the information we need!\n",
    "You are not allowed to download manually the entire ranking -- rather you have to understand how the server loads it in your browser. For this task, Postman with the Interceptor extension can help you greatly. We recommend that you watch this [brief tutorial](https://www.youtube.com/watch?v=jBjXVrS8nXs&list=PLM-7VG-sgbtD8qBnGeQM5nvlpqB_ktaLZ&autoplay=1) to understand quickly how to use it.\n",
    "\n",
    "## Assignment\n",
    "1. Obtain the 200 top-ranking universities in www.topuniversities.com ([ranking 2018](https://www.topuniversities.com/university-rankings/world-university-rankings/2018)). In particular, extract the following fields for each university: name, rank, country and region, number of faculty members (international and total) and number of students (international and total). Some information is not available in the main list and you have to find them in the [details page](https://www.topuniversities.com/universities/ecole-polytechnique-fÃ©dÃ©rale-de-lausanne-epfl).\n",
    "Store the resulting dataset in a pandas DataFrame and answer the following questions:\n",
    "  Which are the best universities in term of: (a) ratio between faculty members and students, (b) ratio of international students?\n",
    "  Answer the previous question aggregating the data by (c) country and (d) region.\n",
    "\n",
    "Plot your data using bar charts and describe briefly what you observed.\n",
    "\n",
    "2.Obtain the 200 top-ranking universities in www.timeshighereducation.com ([ranking 2018](http://timeshighereducation.com/world-university-rankings/2018/world-ranking)). Repeat the analysis of the previous point and discuss briefly what you observed.\n",
    "\n",
    "3.Merge the two DataFrames created in questions 1 and 2 using university names. Match universities' names as well as you can, and explain your strategy. Keep track of the original position in both rankings.\n",
    "\n",
    "4.Find useful insights in the data by performing an exploratory analysis. Can you find a strong correlation between any pair of variables in the dataset you just created? Example: when a university is strong in its international dimension, can you observe a consistency both for students and faculty members?\n",
    "\n",
    "5.Can you find the best university taking in consideration both rankings? Explain your approach.\n",
    "\n",
    "Hints:\n",
    "- Keep your Notebook clean and don't print the verbose output of the requests if this does not add useful information for the reader.\n",
    "- In case of tie, use the order defined in the webpage."
   ]
  },
  {
   "cell_type": "code",
   "execution_count": 39,
   "metadata": {},
   "outputs": [
    {
     "data": {
      "text/plain": [
       "'English_United States.1252'"
      ]
     },
     "execution_count": 39,
     "metadata": {},
     "output_type": "execute_result"
    }
   ],
   "source": [
    "# Import libraries\n",
    "import requests\n",
    "from bs4 import BeautifulSoup\n",
    "import pandas as pd\n",
    "import numpy as np\n",
    "import json\n",
    "import seaborn as sns\n",
    "import locale\n",
    "import warnings\n",
    "warnings.filterwarnings(\"ignore\")\n",
    "\n",
    "locale.setlocale( locale.LC_ALL, 'english_USA' )"
   ]
  },
  {
   "attachments": {},
   "cell_type": "markdown",
   "metadata": {},
   "source": [
    "# Question 1\n",
    "\n",
    "Getting 200 top-ranking universities in www.topuniversities.com.\n",
    "\n",
    "**Make the first request:**\n",
    "\n",
    "We read all the *get* from the website."
   ]
  },
  {
   "cell_type": "code",
   "execution_count": 10,
   "metadata": {
    "collapsed": true
   },
   "outputs": [],
   "source": [
    "r = requests.get('https://www.topuniversities.com/sites/default/files/qs-rankings-data/357051.txt?_=1508506128359')"
   ]
  },
  {
   "cell_type": "markdown",
   "metadata": {},
   "source": [
    "Then, we use *json()* to parse the data."
   ]
  },
  {
   "cell_type": "code",
   "execution_count": 11,
   "metadata": {
    "collapsed": true
   },
   "outputs": [],
   "source": [
    "rJson = r.json()"
   ]
  },
  {
   "cell_type": "markdown",
   "metadata": {},
   "source": [
    "The data is transformed into a dataframe, and thus easier to manipulate."
   ]
  },
  {
   "cell_type": "code",
   "execution_count": 12,
   "metadata": {
    "collapsed": true
   },
   "outputs": [],
   "source": [
    "ranking1Full = pd.DataFrame(rJson['data'])"
   ]
  },
  {
   "cell_type": "markdown",
   "metadata": {},
   "source": [
    "In a *for* loop, for every line of the ranking, we read the url associated and get the data from this page with *BeautifulSoup*.\n",
    "\n",
    "The number present in the html page are recorded for every line."
   ]
  },
  {
   "cell_type": "code",
   "execution_count": 13,
   "metadata": {
    "collapsed": true
   },
   "outputs": [],
   "source": [
    "ranking1Full['In total Staff']=0\n",
    "ranking1Full['International Staff']=0\n",
    "ranking1Full['In total Students']=0\n",
    "ranking1Full['International Students']=0\n",
    "\n",
    "ranking200_1=ranking1Full.iloc[0:200]\n",
    "\n",
    "for index, row in ranking200_1.iterrows():\n",
    "    link = 'https://www.topuniversities.com'+ row.url\n",
    "    r2 = requests.get(link)\n",
    "    soup = BeautifulSoup(r2.content, 'html.parser')\n",
    "    numbers=soup.find_all('', class_='number')\n",
    "    if numbers!=[]:\n",
    "        ranking200_1.loc[index,'In total Staff']=locale.atoi(numbers[0].string)\n",
    "        ranking200_1.loc[index,'International Staff']=locale.atoi(numbers[1].string)\n",
    "        ranking200_1.loc[index,'In total Students']=locale.atoi(numbers[2].string)\n",
    "        ranking200_1.loc[index,'International Students']=locale.atoi(numbers[3].string)"
   ]
  },
  {
   "cell_type": "markdown",
   "metadata": {},
   "source": [
    "Changing the wrong data of 1 university:\n",
    "\n",
    "'International Students' seems like 'In total Staff'\n",
    "\n",
    "'In total Students' seems like 'International Staff'\n",
    "\n",
    "and the opposite."
   ]
  },
  {
   "cell_type": "code",
   "execution_count": 85,
   "metadata": {
    "collapsed": true
   },
   "outputs": [],
   "source": [
    "a=ranking200_1.loc[189,'In total Staff']\n",
    "b=ranking200_1.loc[189,'International Staff']\n",
    "c=ranking200_1.loc[189,'In total Students']\n",
    "d=ranking200_1.loc[189,'International Students']\n",
    "\n",
    "ranking200_1.loc[189,'In total Staff']        =d\n",
    "ranking200_1.loc[189,'International Staff']   =c\n",
    "ranking200_1.loc[189,'In total Students']     =b\n",
    "ranking200_1.loc[189,'International Students']=a"
   ]
  },
  {
   "cell_type": "markdown",
   "metadata": {},
   "source": [
    "For each line of the 200 Universities ranking, we compute the 2 ratios.\n",
    "\n",
    "This step is clearer on its on but it could have been done in the loop above."
   ]
  },
  {
   "cell_type": "code",
   "execution_count": 117,
   "metadata": {},
   "outputs": [],
   "source": [
    "ranking200_1['Ratio Staff/Students']=0\n",
    "ranking200_1['Ratio International Students']=0\n",
    "\n",
    "for index, row in ranking200_1.iterrows():\n",
    "        ranking200_1.loc[index,'Ratio Staff/Students']=round(ranking200_1.loc[index,'In total Staff']/ranking200_1.loc[index,'In total Students'],2)\n",
    "        ranking200_1.loc[index,'Ratio International Students']=round(ranking200_1.loc[index,'International Students']/ranking200_1.loc[index,'In total Students'],2)\n",
    "        \n",
    "for index, row in ranking200_1.iterrows():\n",
    "    rank_str = str(row[\"rank_display\"])\n",
    "    str_del = \"=–+\"\n",
    "    for char in str_del:\n",
    "        rank_str = rank_str.replace(char,\" \")\n",
    "    ranking200_1.loc[index,\"rank_display\"] = int(rank_str.split()[0])"
   ]
  },
  {
   "cell_type": "markdown",
   "metadata": {},
   "source": [
    "Now, we are able to do new rankings depending on these ratios."
   ]
  },
  {
   "cell_type": "code",
   "execution_count": 118,
   "metadata": {
    "scrolled": true
   },
   "outputs": [
    {
     "data": {
      "text/html": [
       "<div>\n",
       "<style>\n",
       "    .dataframe thead tr:only-child th {\n",
       "        text-align: right;\n",
       "    }\n",
       "\n",
       "    .dataframe thead th {\n",
       "        text-align: left;\n",
       "    }\n",
       "\n",
       "    .dataframe tbody tr th {\n",
       "        vertical-align: top;\n",
       "    }\n",
       "</style>\n",
       "<table border=\"1\" class=\"dataframe\">\n",
       "  <thead>\n",
       "    <tr style=\"text-align: right;\">\n",
       "      <th></th>\n",
       "      <th>cc</th>\n",
       "      <th>core_id</th>\n",
       "      <th>country</th>\n",
       "      <th>guide</th>\n",
       "      <th>logo</th>\n",
       "      <th>nid</th>\n",
       "      <th>rank_display</th>\n",
       "      <th>region</th>\n",
       "      <th>score</th>\n",
       "      <th>stars</th>\n",
       "      <th>title</th>\n",
       "      <th>url</th>\n",
       "      <th>In total Staff</th>\n",
       "      <th>International Staff</th>\n",
       "      <th>In total Students</th>\n",
       "      <th>International Students</th>\n",
       "      <th>Ratio Staff/Students</th>\n",
       "      <th>Ratio International Students</th>\n",
       "    </tr>\n",
       "  </thead>\n",
       "  <tbody>\n",
       "    <tr>\n",
       "      <th>189</th>\n",
       "      <td>IN</td>\n",
       "      <td>22878</td>\n",
       "      <td>India</td>\n",
       "      <td>&lt;a href=\"/where-to-study/asia/india/guide\" cla...</td>\n",
       "      <td>&lt;img src=\"https://www.topuniversities.com/site...</td>\n",
       "      <td>295536</td>\n",
       "      <td>190</td>\n",
       "      <td>Asia</td>\n",
       "      <td>49</td>\n",
       "      <td>None</td>\n",
       "      <td>Indian Institute of Science (IISc) Bangalore</td>\n",
       "      <td>/universities/indian-institute-science-iisc-ba...</td>\n",
       "      <td>423</td>\n",
       "      <td>4071</td>\n",
       "      <td>47</td>\n",
       "      <td>423</td>\n",
       "      <td>9.00</td>\n",
       "      <td>9.00</td>\n",
       "    </tr>\n",
       "    <tr>\n",
       "      <th>3</th>\n",
       "      <td>US</td>\n",
       "      <td>94</td>\n",
       "      <td>United States</td>\n",
       "      <td>&lt;a href=\"/where-to-study/north-america/united-...</td>\n",
       "      <td>&lt;img src=\"https://www.topuniversities.com/site...</td>\n",
       "      <td>294562</td>\n",
       "      <td>4</td>\n",
       "      <td>North America</td>\n",
       "      <td>97.7</td>\n",
       "      <td>5</td>\n",
       "      <td>California Institute of Technology (Caltech)</td>\n",
       "      <td>/universities/california-institute-technology-...</td>\n",
       "      <td>953</td>\n",
       "      <td>350</td>\n",
       "      <td>2255</td>\n",
       "      <td>647</td>\n",
       "      <td>0.42</td>\n",
       "      <td>0.29</td>\n",
       "    </tr>\n",
       "    <tr>\n",
       "      <th>15</th>\n",
       "      <td>US</td>\n",
       "      <td>684</td>\n",
       "      <td>United States</td>\n",
       "      <td>&lt;a href=\"/where-to-study/north-america/united-...</td>\n",
       "      <td>&lt;img src=\"https://www.topuniversities.com/site...</td>\n",
       "      <td>297177</td>\n",
       "      <td>16</td>\n",
       "      <td>North America</td>\n",
       "      <td>90.4</td>\n",
       "      <td>5</td>\n",
       "      <td>Yale University</td>\n",
       "      <td>/universities/yale-university</td>\n",
       "      <td>4940</td>\n",
       "      <td>1708</td>\n",
       "      <td>12402</td>\n",
       "      <td>2469</td>\n",
       "      <td>0.40</td>\n",
       "      <td>0.20</td>\n",
       "    </tr>\n",
       "    <tr>\n",
       "      <th>5</th>\n",
       "      <td>GB</td>\n",
       "      <td>478</td>\n",
       "      <td>United Kingdom</td>\n",
       "      <td>&lt;a href=\"/where-to-study/europe/united-kingdom...</td>\n",
       "      <td>&lt;img src=\"https://www.topuniversities.com/site...</td>\n",
       "      <td>294654</td>\n",
       "      <td>6</td>\n",
       "      <td>Europe</td>\n",
       "      <td>95.3</td>\n",
       "      <td>5</td>\n",
       "      <td>University of Oxford</td>\n",
       "      <td>/universities/university-oxford</td>\n",
       "      <td>6750</td>\n",
       "      <td>2964</td>\n",
       "      <td>19720</td>\n",
       "      <td>7353</td>\n",
       "      <td>0.34</td>\n",
       "      <td>0.37</td>\n",
       "    </tr>\n",
       "    <tr>\n",
       "      <th>4</th>\n",
       "      <td>GB</td>\n",
       "      <td>95</td>\n",
       "      <td>United Kingdom</td>\n",
       "      <td>&lt;a href=\"/where-to-study/europe/united-kingdom...</td>\n",
       "      <td>&lt;img src=\"https://www.topuniversities.com/site...</td>\n",
       "      <td>294561</td>\n",
       "      <td>5</td>\n",
       "      <td>Europe</td>\n",
       "      <td>95.6</td>\n",
       "      <td>5</td>\n",
       "      <td>University of Cambridge</td>\n",
       "      <td>/universities/university-cambridge</td>\n",
       "      <td>5490</td>\n",
       "      <td>2278</td>\n",
       "      <td>18770</td>\n",
       "      <td>6699</td>\n",
       "      <td>0.29</td>\n",
       "      <td>0.36</td>\n",
       "    </tr>\n",
       "  </tbody>\n",
       "</table>\n",
       "</div>"
      ],
      "text/plain": [
       "     cc core_id         country  \\\n",
       "189  IN   22878           India   \n",
       "3    US      94   United States   \n",
       "15   US     684   United States   \n",
       "5    GB     478  United Kingdom   \n",
       "4    GB      95  United Kingdom   \n",
       "\n",
       "                                                 guide  \\\n",
       "189  <a href=\"/where-to-study/asia/india/guide\" cla...   \n",
       "3    <a href=\"/where-to-study/north-america/united-...   \n",
       "15   <a href=\"/where-to-study/north-america/united-...   \n",
       "5    <a href=\"/where-to-study/europe/united-kingdom...   \n",
       "4    <a href=\"/where-to-study/europe/united-kingdom...   \n",
       "\n",
       "                                                  logo     nid rank_display  \\\n",
       "189  <img src=\"https://www.topuniversities.com/site...  295536          190   \n",
       "3    <img src=\"https://www.topuniversities.com/site...  294562            4   \n",
       "15   <img src=\"https://www.topuniversities.com/site...  297177           16   \n",
       "5    <img src=\"https://www.topuniversities.com/site...  294654            6   \n",
       "4    <img src=\"https://www.topuniversities.com/site...  294561            5   \n",
       "\n",
       "            region score stars                                         title  \\\n",
       "189           Asia    49  None  Indian Institute of Science (IISc) Bangalore   \n",
       "3    North America  97.7     5  California Institute of Technology (Caltech)   \n",
       "15   North America  90.4     5                               Yale University   \n",
       "5           Europe  95.3     5                          University of Oxford   \n",
       "4           Europe  95.6     5                       University of Cambridge   \n",
       "\n",
       "                                                   url  In total Staff  \\\n",
       "189  /universities/indian-institute-science-iisc-ba...             423   \n",
       "3    /universities/california-institute-technology-...             953   \n",
       "15                       /universities/yale-university            4940   \n",
       "5                      /universities/university-oxford            6750   \n",
       "4                   /universities/university-cambridge            5490   \n",
       "\n",
       "     International Staff  In total Students  International Students  \\\n",
       "189                 4071                 47                     423   \n",
       "3                    350               2255                     647   \n",
       "15                  1708              12402                    2469   \n",
       "5                   2964              19720                    7353   \n",
       "4                   2278              18770                    6699   \n",
       "\n",
       "     Ratio Staff/Students  Ratio International Students  \n",
       "189                  9.00                          9.00  \n",
       "3                    0.42                          0.29  \n",
       "15                   0.40                          0.20  \n",
       "5                    0.34                          0.37  \n",
       "4                    0.29                          0.36  "
      ]
     },
     "execution_count": 118,
     "metadata": {},
     "output_type": "execute_result"
    }
   ],
   "source": [
    "ranking200_1.sort_values(['Ratio Staff/Students'],ascending=0).head()\n",
    "#ranking200_1.sort_values(['Ratio International Students'],ascending=0).head()"
   ]
  },
  {
   "cell_type": "markdown",
   "metadata": {},
   "source": [
    "We clean the dataframe and select only the wanted columns.\n",
    "\n",
    "In the same time, we transform the string of numbers into numeric."
   ]
  },
  {
   "cell_type": "code",
   "execution_count": 119,
   "metadata": {
    "collapsed": true
   },
   "outputs": [],
   "source": [
    "final=ranking200_1[['cc','country','region','Ratio Staff/Students','Ratio International Students']]"
   ]
  },
  {
   "cell_type": "code",
   "execution_count": 120,
   "metadata": {
    "collapsed": true
   },
   "outputs": [],
   "source": [
    "final['Ratio Staff/Students']=pd.to_numeric(final['Ratio Staff/Students'])\n",
    "final['Ratio International Students']=pd.to_numeric(final['Ratio International Students'])"
   ]
  },
  {
   "cell_type": "markdown",
   "metadata": {},
   "source": [
    "The indices of the maxima in *Ratio Staff/Students* and *Ratio International Students* are selected into *c1* and *c2* respectively."
   ]
  },
  {
   "cell_type": "code",
   "execution_count": 121,
   "metadata": {
    "collapsed": true
   },
   "outputs": [],
   "source": [
    "c1=pd.DataFrame(ranking200_1['title'][ranking200_1.groupby(['country'], sort=False)['Ratio Staff/Students'].idxmax()])\n",
    "c2=pd.DataFrame(ranking200_1['title'][ranking200_1.groupby(['country'], sort=False)['Ratio International Students'].idxmax()])\n",
    "\n",
    "c1=c1.reset_index()\n",
    "c2=c2.reset_index()\n",
    "\n",
    "c1=c1.drop(c1.columns[[0]],axis=1)\n",
    "c2=c2.drop(c2.columns[[0]],axis=1)"
   ]
  },
  {
   "cell_type": "markdown",
   "metadata": {},
   "source": [
    "We transform the data by grouping the info by country. Then, we add the university names found with indices above to the new dataframe."
   ]
  },
  {
   "cell_type": "code",
   "execution_count": 122,
   "metadata": {},
   "outputs": [
    {
     "data": {
      "text/html": [
       "<div>\n",
       "<style>\n",
       "    .dataframe thead tr:only-child th {\n",
       "        text-align: right;\n",
       "    }\n",
       "\n",
       "    .dataframe thead th {\n",
       "        text-align: left;\n",
       "    }\n",
       "\n",
       "    .dataframe tbody tr th {\n",
       "        vertical-align: top;\n",
       "    }\n",
       "</style>\n",
       "<table border=\"1\" class=\"dataframe\">\n",
       "  <thead>\n",
       "    <tr style=\"text-align: right;\">\n",
       "      <th></th>\n",
       "      <th>country</th>\n",
       "      <th>region</th>\n",
       "      <th>Ratio Staff/Students</th>\n",
       "      <th>University</th>\n",
       "    </tr>\n",
       "  </thead>\n",
       "  <tbody>\n",
       "    <tr>\n",
       "      <th>0</th>\n",
       "      <td>United States</td>\n",
       "      <td>North America</td>\n",
       "      <td>0.42</td>\n",
       "      <td>California Institute of Technology (Caltech)</td>\n",
       "    </tr>\n",
       "    <tr>\n",
       "      <th>1</th>\n",
       "      <td>United Kingdom</td>\n",
       "      <td>Europe</td>\n",
       "      <td>0.34</td>\n",
       "      <td>University of Oxford</td>\n",
       "    </tr>\n",
       "    <tr>\n",
       "      <th>2</th>\n",
       "      <td>Switzerland</td>\n",
       "      <td>Europe</td>\n",
       "      <td>0.19</td>\n",
       "      <td>University of Zurich</td>\n",
       "    </tr>\n",
       "    <tr>\n",
       "      <th>3</th>\n",
       "      <td>Singapore</td>\n",
       "      <td>Asia</td>\n",
       "      <td>0.17</td>\n",
       "      <td>Nanyang Technological University, Singapore (NTU)</td>\n",
       "    </tr>\n",
       "    <tr>\n",
       "      <th>4</th>\n",
       "      <td>Australia</td>\n",
       "      <td>Oceania</td>\n",
       "      <td>0.11</td>\n",
       "      <td>The Australian National University</td>\n",
       "    </tr>\n",
       "  </tbody>\n",
       "</table>\n",
       "</div>"
      ],
      "text/plain": [
       "          country         region  Ratio Staff/Students  \\\n",
       "0   United States  North America                  0.42   \n",
       "1  United Kingdom         Europe                  0.34   \n",
       "2     Switzerland         Europe                  0.19   \n",
       "3       Singapore           Asia                  0.17   \n",
       "4       Australia        Oceania                  0.11   \n",
       "\n",
       "                                          University  \n",
       "0       California Institute of Technology (Caltech)  \n",
       "1                               University of Oxford  \n",
       "2                               University of Zurich  \n",
       "3  Nanyang Technological University, Singapore (NTU)  \n",
       "4                 The Australian National University  "
      ]
     },
     "execution_count": 122,
     "metadata": {},
     "output_type": "execute_result"
    }
   ],
   "source": [
    "c=final.groupby(['country','region'], as_index=False, sort=False)\n",
    "\n",
    "agg_c1={'Ratio Staff/Students':'max'}\n",
    "\n",
    "final_c1 = final\n",
    "\n",
    "final_c1 = c.agg(agg_c1)\n",
    "final_c1['University']=c1\n",
    "\n",
    "final_c1.head()"
   ]
  },
  {
   "cell_type": "markdown",
   "metadata": {},
   "source": [
    "Similar process with another ratio."
   ]
  },
  {
   "cell_type": "code",
   "execution_count": 123,
   "metadata": {},
   "outputs": [
    {
     "data": {
      "text/html": [
       "<div>\n",
       "<style>\n",
       "    .dataframe thead tr:only-child th {\n",
       "        text-align: right;\n",
       "    }\n",
       "\n",
       "    .dataframe thead th {\n",
       "        text-align: left;\n",
       "    }\n",
       "\n",
       "    .dataframe tbody tr th {\n",
       "        vertical-align: top;\n",
       "    }\n",
       "</style>\n",
       "<table border=\"1\" class=\"dataframe\">\n",
       "  <thead>\n",
       "    <tr style=\"text-align: right;\">\n",
       "      <th></th>\n",
       "      <th>country</th>\n",
       "      <th>region</th>\n",
       "      <th>Ratio International Students</th>\n",
       "      <th>University</th>\n",
       "    </tr>\n",
       "  </thead>\n",
       "  <tbody>\n",
       "    <tr>\n",
       "      <th>0</th>\n",
       "      <td>United States</td>\n",
       "      <td>North America</td>\n",
       "      <td>0.48</td>\n",
       "      <td>Carnegie Mellon University</td>\n",
       "    </tr>\n",
       "    <tr>\n",
       "      <th>1</th>\n",
       "      <td>United Kingdom</td>\n",
       "      <td>Europe</td>\n",
       "      <td>0.69</td>\n",
       "      <td>London School of Economics and Political Scien...</td>\n",
       "    </tr>\n",
       "    <tr>\n",
       "      <th>2</th>\n",
       "      <td>Switzerland</td>\n",
       "      <td>Europe</td>\n",
       "      <td>0.57</td>\n",
       "      <td>Ecole Polytechnique Fédérale de Lausanne (EPFL)</td>\n",
       "    </tr>\n",
       "    <tr>\n",
       "      <th>3</th>\n",
       "      <td>Singapore</td>\n",
       "      <td>Asia</td>\n",
       "      <td>0.28</td>\n",
       "      <td>Nanyang Technological University, Singapore (NTU)</td>\n",
       "    </tr>\n",
       "    <tr>\n",
       "      <th>4</th>\n",
       "      <td>Australia</td>\n",
       "      <td>Oceania</td>\n",
       "      <td>0.43</td>\n",
       "      <td>The University of Melbourne</td>\n",
       "    </tr>\n",
       "  </tbody>\n",
       "</table>\n",
       "</div>"
      ],
      "text/plain": [
       "          country         region  Ratio International Students  \\\n",
       "0   United States  North America                          0.48   \n",
       "1  United Kingdom         Europe                          0.69   \n",
       "2     Switzerland         Europe                          0.57   \n",
       "3       Singapore           Asia                          0.28   \n",
       "4       Australia        Oceania                          0.43   \n",
       "\n",
       "                                          University  \n",
       "0                         Carnegie Mellon University  \n",
       "1  London School of Economics and Political Scien...  \n",
       "2    Ecole Polytechnique Fédérale de Lausanne (EPFL)  \n",
       "3  Nanyang Technological University, Singapore (NTU)  \n",
       "4                        The University of Melbourne  "
      ]
     },
     "execution_count": 123,
     "metadata": {},
     "output_type": "execute_result"
    }
   ],
   "source": [
    "agg_c2={'Ratio International Students':'max'}\n",
    "\n",
    "final_c2 = final\n",
    "\n",
    "final_c2 = c.agg(agg_c2)\n",
    "final_c2['University']=c2\n",
    "\n",
    "final_c2.head()"
   ]
  },
  {
   "cell_type": "markdown",
   "metadata": {},
   "source": [
    "We repeat the process for the classification per region."
   ]
  },
  {
   "cell_type": "code",
   "execution_count": 124,
   "metadata": {
    "collapsed": true
   },
   "outputs": [],
   "source": [
    "r1=pd.DataFrame(ranking200_1['title'][ranking200_1.groupby(['region'], sort=False)['Ratio Staff/Students'].idxmax()])\n",
    "r2=pd.DataFrame(ranking200_1['title'][ranking200_1.groupby(['region'], sort=False)['Ratio International Students'].idxmax()])\n",
    "\n",
    "r1=r1.reset_index()\n",
    "r2=r2.reset_index()\n",
    "\n",
    "r1=r1.drop(r1.columns[[0]],axis=1)\n",
    "r2=r2.drop(r2.columns[[0]],axis=1)"
   ]
  },
  {
   "cell_type": "code",
   "execution_count": 125,
   "metadata": {},
   "outputs": [
    {
     "data": {
      "text/html": [
       "<div>\n",
       "<style>\n",
       "    .dataframe thead tr:only-child th {\n",
       "        text-align: right;\n",
       "    }\n",
       "\n",
       "    .dataframe thead th {\n",
       "        text-align: left;\n",
       "    }\n",
       "\n",
       "    .dataframe tbody tr th {\n",
       "        vertical-align: top;\n",
       "    }\n",
       "</style>\n",
       "<table border=\"1\" class=\"dataframe\">\n",
       "  <thead>\n",
       "    <tr style=\"text-align: right;\">\n",
       "      <th></th>\n",
       "      <th>region</th>\n",
       "      <th>Ratio Staff/Students</th>\n",
       "      <th>University</th>\n",
       "    </tr>\n",
       "  </thead>\n",
       "  <tbody>\n",
       "    <tr>\n",
       "      <th>0</th>\n",
       "      <td>North America</td>\n",
       "      <td>0.42</td>\n",
       "      <td>California Institute of Technology (Caltech)</td>\n",
       "    </tr>\n",
       "    <tr>\n",
       "      <th>1</th>\n",
       "      <td>Europe</td>\n",
       "      <td>0.34</td>\n",
       "      <td>University of Oxford</td>\n",
       "    </tr>\n",
       "    <tr>\n",
       "      <th>2</th>\n",
       "      <td>Asia</td>\n",
       "      <td>9.00</td>\n",
       "      <td>Indian Institute of Science (IISc) Bangalore</td>\n",
       "    </tr>\n",
       "    <tr>\n",
       "      <th>3</th>\n",
       "      <td>Oceania</td>\n",
       "      <td>0.11</td>\n",
       "      <td>The Australian National University</td>\n",
       "    </tr>\n",
       "    <tr>\n",
       "      <th>4</th>\n",
       "      <td>Latin America</td>\n",
       "      <td>0.14</td>\n",
       "      <td>Instituto Tecnológico y de Estudios Superiores...</td>\n",
       "    </tr>\n",
       "  </tbody>\n",
       "</table>\n",
       "</div>"
      ],
      "text/plain": [
       "          region  Ratio Staff/Students  \\\n",
       "0  North America                  0.42   \n",
       "1         Europe                  0.34   \n",
       "2           Asia                  9.00   \n",
       "3        Oceania                  0.11   \n",
       "4  Latin America                  0.14   \n",
       "\n",
       "                                          University  \n",
       "0       California Institute of Technology (Caltech)  \n",
       "1                               University of Oxford  \n",
       "2       Indian Institute of Science (IISc) Bangalore  \n",
       "3                 The Australian National University  \n",
       "4  Instituto Tecnológico y de Estudios Superiores...  "
      ]
     },
     "execution_count": 125,
     "metadata": {},
     "output_type": "execute_result"
    }
   ],
   "source": [
    "r=final.groupby(['region'], as_index=False, sort=False)\n",
    "\n",
    "agg_r1={'Ratio Staff/Students':'max'}\n",
    "\n",
    "final_r1 = final\n",
    "\n",
    "final_r1 = r.agg(agg_r1)\n",
    "final_r1['University']=r1\n",
    "\n",
    "final_r1.head()"
   ]
  },
  {
   "cell_type": "code",
   "execution_count": 126,
   "metadata": {},
   "outputs": [
    {
     "data": {
      "text/html": [
       "<div>\n",
       "<style>\n",
       "    .dataframe thead tr:only-child th {\n",
       "        text-align: right;\n",
       "    }\n",
       "\n",
       "    .dataframe thead th {\n",
       "        text-align: left;\n",
       "    }\n",
       "\n",
       "    .dataframe tbody tr th {\n",
       "        vertical-align: top;\n",
       "    }\n",
       "</style>\n",
       "<table border=\"1\" class=\"dataframe\">\n",
       "  <thead>\n",
       "    <tr style=\"text-align: right;\">\n",
       "      <th></th>\n",
       "      <th>region</th>\n",
       "      <th>Ratio International Students</th>\n",
       "      <th>University</th>\n",
       "    </tr>\n",
       "  </thead>\n",
       "  <tbody>\n",
       "    <tr>\n",
       "      <th>0</th>\n",
       "      <td>North America</td>\n",
       "      <td>0.48</td>\n",
       "      <td>Carnegie Mellon University</td>\n",
       "    </tr>\n",
       "    <tr>\n",
       "      <th>1</th>\n",
       "      <td>Europe</td>\n",
       "      <td>0.69</td>\n",
       "      <td>London School of Economics and Political Scien...</td>\n",
       "    </tr>\n",
       "    <tr>\n",
       "      <th>2</th>\n",
       "      <td>Asia</td>\n",
       "      <td>9.00</td>\n",
       "      <td>Indian Institute of Science (IISc) Bangalore</td>\n",
       "    </tr>\n",
       "    <tr>\n",
       "      <th>3</th>\n",
       "      <td>Oceania</td>\n",
       "      <td>0.43</td>\n",
       "      <td>The University of Melbourne</td>\n",
       "    </tr>\n",
       "    <tr>\n",
       "      <th>4</th>\n",
       "      <td>Latin America</td>\n",
       "      <td>0.22</td>\n",
       "      <td>Universidad de Buenos Aires (UBA)</td>\n",
       "    </tr>\n",
       "  </tbody>\n",
       "</table>\n",
       "</div>"
      ],
      "text/plain": [
       "          region  Ratio International Students  \\\n",
       "0  North America                          0.48   \n",
       "1         Europe                          0.69   \n",
       "2           Asia                          9.00   \n",
       "3        Oceania                          0.43   \n",
       "4  Latin America                          0.22   \n",
       "\n",
       "                                          University  \n",
       "0                         Carnegie Mellon University  \n",
       "1  London School of Economics and Political Scien...  \n",
       "2       Indian Institute of Science (IISc) Bangalore  \n",
       "3                        The University of Melbourne  \n",
       "4                  Universidad de Buenos Aires (UBA)  "
      ]
     },
     "execution_count": 126,
     "metadata": {},
     "output_type": "execute_result"
    }
   ],
   "source": [
    "agg_r2={'Ratio International Students':'max'}\n",
    "\n",
    "final_r2 = final\n",
    "\n",
    "final_r2 = r.agg(agg_r2)\n",
    "final_r2['University']=r2\n",
    "\n",
    "final_r2.head()"
   ]
  },
  {
   "cell_type": "code",
   "execution_count": 185,
   "metadata": {
    "collapsed": true
   },
   "outputs": [],
   "source": [
    "#Imports for plot\n",
    "import matplotlib.pyplot as plt"
   ]
  },
  {
   "cell_type": "markdown",
   "metadata": {},
   "source": [
    "## Ploting data using bar charts\n",
    "\n",
    "\n",
    "#### Ploting ratio of staff/students by country."
   ]
  },
  {
   "cell_type": "code",
   "execution_count": 186,
   "metadata": {},
   "outputs": [
    {
     "data": {
      "image/png": "[encoded data removed]",
      "text/plain": [
       "<matplotlib.figure.Figure at 0x1d3194b2e48>"
      ]
     },
     "metadata": {},
     "output_type": "display_data"
    }
   ],
   "source": [
    "fig, ax = plt.subplots()\n",
    "fig.canvas.draw()\n",
    "\n",
    "final_c1['Ratio Staff/Students'].plot(kind='bar')\n",
    "\n",
    "labels = [item for item in final_c1['country']]\n",
    "\n",
    "ax.set_xticklabels(labels)\n",
    "\n",
    "plt.show()"
   ]
  },
  {
   "cell_type": "markdown",
   "metadata": {},
   "source": [
    "#### Ploting ratio of international students by country."
   ]
  },
  {
   "cell_type": "code",
   "execution_count": 187,
   "metadata": {},
   "outputs": [
    {
     "data": {
      "image/png": "[encoded data removed]",
      "text/plain": [
       "<matplotlib.figure.Figure at 0x1d319769550>"
      ]
     },
     "metadata": {},
     "output_type": "display_data"
    }
   ],
   "source": [
    "fig, ax = plt.subplots()\n",
    "fig.canvas.draw()\n",
    "\n",
    "final_c2['Ratio International Students'].plot(kind='bar')\n",
    "\n",
    "labels = [item for item in final_c2['country']]\n",
    "\n",
    "ax.set_xticklabels(labels)\n",
    "\n",
    "plt.show()"
   ]
  },
  {
   "cell_type": "markdown",
   "metadata": {},
   "source": [
    "#### Ploting ratio of staff/students by region."
   ]
  },
  {
   "cell_type": "code",
   "execution_count": 189,
   "metadata": {},
   "outputs": [
    {
     "data": {
      "image/png": "[encoded data removed]",
      "text/plain": [
       "<matplotlib.figure.Figure at 0x1d3194b2ba8>"
      ]
     },
     "metadata": {},
     "output_type": "display_data"
    }
   ],
   "source": [
    "fig, ax = plt.subplots()\n",
    "fig.canvas.draw()\n",
    "\n",
    "final_r1['Ratio Staff/Students'].plot(kind='bar')\n",
    "\n",
    "labels = [item for item in final_r1['region']]\n",
    "\n",
    "ax.set_xticklabels(labels)\n",
    "\n",
    "plt.show()"
   ]
  },
  {
   "cell_type": "markdown",
   "metadata": {},
   "source": [
    "#### Ploting ratio of international students by region."
   ]
  },
  {
   "cell_type": "code",
   "execution_count": 190,
   "metadata": {},
   "outputs": [
    {
     "data": {
      "image/png": "[encoded data removed]",
      "text/plain": [
       "<matplotlib.figure.Figure at 0x1d319763d30>"
      ]
     },
     "metadata": {},
     "output_type": "display_data"
    }
   ],
   "source": [
    "fig, ax = plt.subplots()\n",
    "fig.canvas.draw()\n",
    "\n",
    "final_r2['Ratio International Students'].plot(kind='bar')\n",
    "\n",
    "labels = [item for item in final_r2['region']]\n",
    "\n",
    "ax.set_xticklabels(labels)\n",
    "\n",
    "plt.show()"
   ]
  },
  {
   "cell_type": "markdown",
   "metadata": {},
   "source": [
    "What we see is that India is giving strange results, what makes India and Asia stand out from the rest."
   ]
  },
  {
   "attachments": {},
   "cell_type": "markdown",
   "metadata": {},
   "source": [
    "# Question 2\n",
    "\n",
    "Getting 200 top-ranking universities in  www.timeshighereducation.com.\n",
    "\n",
    "**Make the second request:**\n",
    "\n",
    "Here, we apply the same process for the second website.\n",
    "\n",
    "There is no need for *BeautifulSoup* because there is no extract website to go to for data."
   ]
  },
  {
   "cell_type": "code",
   "execution_count": 127,
   "metadata": {},
   "outputs": [],
   "source": [
    "r2=requests.get('https://www.timeshighereducation.com/sites/default/files/the_data_rankings/world_university_rankings_2018_limit0_369a9045a203e176392b9fb8f8c1cb2a.json')"
   ]
  },
  {
   "cell_type": "code",
   "execution_count": 134,
   "metadata": {
    "collapsed": true
   },
   "outputs": [],
   "source": [
    "r2Json=r2.json()"
   ]
  },
  {
   "cell_type": "code",
   "execution_count": 135,
   "metadata": {
    "collapsed": true
   },
   "outputs": [],
   "source": [
    "ranking2Full = pd.DataFrame(r2Json['data'])"
   ]
  },
  {
   "cell_type": "code",
   "execution_count": 136,
   "metadata": {
    "collapsed": true
   },
   "outputs": [],
   "source": [
    "ranking200_2=ranking2Full.iloc[0:200]"
   ]
  },
  {
   "cell_type": "markdown",
   "metadata": {},
   "source": [
    "The 2 ratios computed on the first dataframe already existed here.\n",
    "\n",
    "The first one had *%* percentage that had to be removed."
   ]
  },
  {
   "cell_type": "code",
   "execution_count": 137,
   "metadata": {},
   "outputs": [],
   "source": [
    "for index,row in ranking200_2.iterrows():\n",
    "    ranking200_2.loc[index,'stats_pc_intl_students']=float(ranking200_2['stats_pc_intl_students'][index][:-1])/100"
   ]
  },
  {
   "cell_type": "code",
   "execution_count": 138,
   "metadata": {
    "collapsed": true
   },
   "outputs": [],
   "source": [
    "for index, row in ranking200_2.iterrows():\n",
    "    rank_str = str(row[\"rank\"])\n",
    "    str_del = \"=–+\"\n",
    "    for char in str_del:\n",
    "        rank_str = rank_str.replace(char,\" \")\n",
    "    ranking200_2.loc[index,\"rank\"] = int(rank_str.split()[0])"
   ]
  },
  {
   "cell_type": "markdown",
   "metadata": {},
   "source": [
    "The second ratio was the inverse of the wanted ratio. We thus just have to transform it."
   ]
  },
  {
   "cell_type": "code",
   "execution_count": 139,
   "metadata": {},
   "outputs": [
    {
     "data": {
      "text/html": [
       "<div>\n",
       "<style>\n",
       "    .dataframe thead tr:only-child th {\n",
       "        text-align: right;\n",
       "    }\n",
       "\n",
       "    .dataframe thead th {\n",
       "        text-align: left;\n",
       "    }\n",
       "\n",
       "    .dataframe tbody tr th {\n",
       "        vertical-align: top;\n",
       "    }\n",
       "</style>\n",
       "<table border=\"1\" class=\"dataframe\">\n",
       "  <thead>\n",
       "    <tr style=\"text-align: right;\">\n",
       "      <th></th>\n",
       "      <th>aliases</th>\n",
       "      <th>location</th>\n",
       "      <th>member_level</th>\n",
       "      <th>name</th>\n",
       "      <th>nid</th>\n",
       "      <th>rank</th>\n",
       "      <th>rank_order</th>\n",
       "      <th>record_type</th>\n",
       "      <th>scores_citations</th>\n",
       "      <th>scores_citations_rank</th>\n",
       "      <th>...</th>\n",
       "      <th>scores_research</th>\n",
       "      <th>scores_research_rank</th>\n",
       "      <th>scores_teaching</th>\n",
       "      <th>scores_teaching_rank</th>\n",
       "      <th>stats_female_male_ratio</th>\n",
       "      <th>stats_number_students</th>\n",
       "      <th>stats_pc_intl_students</th>\n",
       "      <th>subjects_offered</th>\n",
       "      <th>url</th>\n",
       "      <th>stats_staff_student_ratio</th>\n",
       "    </tr>\n",
       "  </thead>\n",
       "  <tbody>\n",
       "    <tr>\n",
       "      <th>0</th>\n",
       "      <td>University of Oxford</td>\n",
       "      <td>United Kingdom</td>\n",
       "      <td>0</td>\n",
       "      <td>University of Oxford</td>\n",
       "      <td>468</td>\n",
       "      <td>1</td>\n",
       "      <td>10</td>\n",
       "      <td>master_account</td>\n",
       "      <td>99.1</td>\n",
       "      <td>15</td>\n",
       "      <td>...</td>\n",
       "      <td>99.5</td>\n",
       "      <td>1</td>\n",
       "      <td>86.7</td>\n",
       "      <td>5</td>\n",
       "      <td>46 : 54</td>\n",
       "      <td>20,409</td>\n",
       "      <td>0.38</td>\n",
       "      <td>Archaeology,Art, Performing Arts &amp; Design,Biol...</td>\n",
       "      <td>/world-university-rankings/university-oxford</td>\n",
       "      <td>0.09</td>\n",
       "    </tr>\n",
       "    <tr>\n",
       "      <th>1</th>\n",
       "      <td>University of Cambridge</td>\n",
       "      <td>United Kingdom</td>\n",
       "      <td>0</td>\n",
       "      <td>University of Cambridge</td>\n",
       "      <td>470</td>\n",
       "      <td>2</td>\n",
       "      <td>20</td>\n",
       "      <td>master_account</td>\n",
       "      <td>97.5</td>\n",
       "      <td>29</td>\n",
       "      <td>...</td>\n",
       "      <td>97.8</td>\n",
       "      <td>3</td>\n",
       "      <td>87.8</td>\n",
       "      <td>3</td>\n",
       "      <td>45 : 55</td>\n",
       "      <td>18,389</td>\n",
       "      <td>0.35</td>\n",
       "      <td>Archaeology,Architecture,Art, Performing Arts ...</td>\n",
       "      <td>/world-university-rankings/university-cambridge</td>\n",
       "      <td>0.09</td>\n",
       "    </tr>\n",
       "    <tr>\n",
       "      <th>2</th>\n",
       "      <td>California Institute of Technology caltech</td>\n",
       "      <td>United States</td>\n",
       "      <td>0</td>\n",
       "      <td>California Institute of Technology</td>\n",
       "      <td>128779</td>\n",
       "      <td>3</td>\n",
       "      <td>30</td>\n",
       "      <td>private</td>\n",
       "      <td>99.5</td>\n",
       "      <td>10</td>\n",
       "      <td>...</td>\n",
       "      <td>97.5</td>\n",
       "      <td>4</td>\n",
       "      <td>90.3</td>\n",
       "      <td>1</td>\n",
       "      <td>31 : 69</td>\n",
       "      <td>2,209</td>\n",
       "      <td>0.27</td>\n",
       "      <td>Architecture,Biological Sciences,Business &amp; Ma...</td>\n",
       "      <td>/world-university-rankings/california-institut...</td>\n",
       "      <td>0.15</td>\n",
       "    </tr>\n",
       "    <tr>\n",
       "      <th>3</th>\n",
       "      <td>Stanford University</td>\n",
       "      <td>United States</td>\n",
       "      <td>11</td>\n",
       "      <td>Stanford University</td>\n",
       "      <td>467</td>\n",
       "      <td>3</td>\n",
       "      <td>40</td>\n",
       "      <td>private</td>\n",
       "      <td>99.9</td>\n",
       "      <td>4</td>\n",
       "      <td>...</td>\n",
       "      <td>96.7</td>\n",
       "      <td>5</td>\n",
       "      <td>89.1</td>\n",
       "      <td>2</td>\n",
       "      <td>42 : 58</td>\n",
       "      <td>15,845</td>\n",
       "      <td>0.22</td>\n",
       "      <td>Archaeology,Architecture,Art, Performing Arts ...</td>\n",
       "      <td>/world-university-rankings/stanford-university</td>\n",
       "      <td>0.13</td>\n",
       "    </tr>\n",
       "    <tr>\n",
       "      <th>4</th>\n",
       "      <td>Massachusetts Institute of Technology</td>\n",
       "      <td>United States</td>\n",
       "      <td>0</td>\n",
       "      <td>Massachusetts Institute of Technology</td>\n",
       "      <td>471</td>\n",
       "      <td>5</td>\n",
       "      <td>50</td>\n",
       "      <td>private</td>\n",
       "      <td>100.0</td>\n",
       "      <td>1</td>\n",
       "      <td>...</td>\n",
       "      <td>91.9</td>\n",
       "      <td>9</td>\n",
       "      <td>87.3</td>\n",
       "      <td>4</td>\n",
       "      <td>37 : 63</td>\n",
       "      <td>11,177</td>\n",
       "      <td>0.34</td>\n",
       "      <td>Architecture,Art, Performing Arts &amp; Design,Bio...</td>\n",
       "      <td>/world-university-rankings/massachusetts-insti...</td>\n",
       "      <td>0.11</td>\n",
       "    </tr>\n",
       "  </tbody>\n",
       "</table>\n",
       "<p>5 rows × 26 columns</p>\n",
       "</div>"
      ],
      "text/plain": [
       "                                      aliases        location member_level  \\\n",
       "0                        University of Oxford  United Kingdom            0   \n",
       "1                     University of Cambridge  United Kingdom            0   \n",
       "2  California Institute of Technology caltech   United States            0   \n",
       "3                         Stanford University   United States           11   \n",
       "4       Massachusetts Institute of Technology   United States            0   \n",
       "\n",
       "                                    name     nid rank rank_order  \\\n",
       "0                   University of Oxford     468    1         10   \n",
       "1                University of Cambridge     470    2         20   \n",
       "2     California Institute of Technology  128779    3         30   \n",
       "3                    Stanford University     467    3         40   \n",
       "4  Massachusetts Institute of Technology     471    5         50   \n",
       "\n",
       "      record_type scores_citations scores_citations_rank  \\\n",
       "0  master_account             99.1                    15   \n",
       "1  master_account             97.5                    29   \n",
       "2         private             99.5                    10   \n",
       "3         private             99.9                     4   \n",
       "4         private            100.0                     1   \n",
       "\n",
       "             ...            scores_research scores_research_rank  \\\n",
       "0            ...                       99.5                    1   \n",
       "1            ...                       97.8                    3   \n",
       "2            ...                       97.5                    4   \n",
       "3            ...                       96.7                    5   \n",
       "4            ...                       91.9                    9   \n",
       "\n",
       "  scores_teaching scores_teaching_rank stats_female_male_ratio  \\\n",
       "0            86.7                    5                 46 : 54   \n",
       "1            87.8                    3                 45 : 55   \n",
       "2            90.3                    1                 31 : 69   \n",
       "3            89.1                    2                 42 : 58   \n",
       "4            87.3                    4                 37 : 63   \n",
       "\n",
       "  stats_number_students stats_pc_intl_students  \\\n",
       "0                20,409                   0.38   \n",
       "1                18,389                   0.35   \n",
       "2                 2,209                   0.27   \n",
       "3                15,845                   0.22   \n",
       "4                11,177                   0.34   \n",
       "\n",
       "                                    subjects_offered  \\\n",
       "0  Archaeology,Art, Performing Arts & Design,Biol...   \n",
       "1  Archaeology,Architecture,Art, Performing Arts ...   \n",
       "2  Architecture,Biological Sciences,Business & Ma...   \n",
       "3  Archaeology,Architecture,Art, Performing Arts ...   \n",
       "4  Architecture,Art, Performing Arts & Design,Bio...   \n",
       "\n",
       "                                                 url stats_staff_student_ratio  \n",
       "0       /world-university-rankings/university-oxford                      0.09  \n",
       "1    /world-university-rankings/university-cambridge                      0.09  \n",
       "2  /world-university-rankings/california-institut...                      0.15  \n",
       "3     /world-university-rankings/stanford-university                      0.13  \n",
       "4  /world-university-rankings/massachusetts-insti...                      0.11  \n",
       "\n",
       "[5 rows x 26 columns]"
      ]
     },
     "execution_count": 139,
     "metadata": {},
     "output_type": "execute_result"
    }
   ],
   "source": [
    "ranking200_2['stats_student_staff_ratio']=1/pd.to_numeric(ranking200_2['stats_student_staff_ratio'])\n",
    "ranking200_2['stats_staff_student_ratio']=round(ranking200_2['stats_student_staff_ratio'],2)\n",
    "ranking200_2.drop(['stats_student_staff_ratio'],1).head()"
   ]
  },
  {
   "cell_type": "markdown",
   "metadata": {},
   "source": [
    "Once again, it is possible to class the data in the descending order of these ratio."
   ]
  },
  {
   "cell_type": "code",
   "execution_count": 140,
   "metadata": {},
   "outputs": [
    {
     "data": {
      "text/html": [
       "<div>\n",
       "<style>\n",
       "    .dataframe thead tr:only-child th {\n",
       "        text-align: right;\n",
       "    }\n",
       "\n",
       "    .dataframe thead th {\n",
       "        text-align: left;\n",
       "    }\n",
       "\n",
       "    .dataframe tbody tr th {\n",
       "        vertical-align: top;\n",
       "    }\n",
       "</style>\n",
       "<table border=\"1\" class=\"dataframe\">\n",
       "  <thead>\n",
       "    <tr style=\"text-align: right;\">\n",
       "      <th></th>\n",
       "      <th>aliases</th>\n",
       "      <th>location</th>\n",
       "      <th>member_level</th>\n",
       "      <th>name</th>\n",
       "      <th>nid</th>\n",
       "      <th>rank</th>\n",
       "      <th>rank_order</th>\n",
       "      <th>record_type</th>\n",
       "      <th>scores_citations</th>\n",
       "      <th>scores_citations_rank</th>\n",
       "      <th>...</th>\n",
       "      <th>scores_research_rank</th>\n",
       "      <th>scores_teaching</th>\n",
       "      <th>scores_teaching_rank</th>\n",
       "      <th>stats_female_male_ratio</th>\n",
       "      <th>stats_number_students</th>\n",
       "      <th>stats_pc_intl_students</th>\n",
       "      <th>stats_student_staff_ratio</th>\n",
       "      <th>subjects_offered</th>\n",
       "      <th>url</th>\n",
       "      <th>stats_staff_student_ratio</th>\n",
       "    </tr>\n",
       "  </thead>\n",
       "  <tbody>\n",
       "    <tr>\n",
       "      <th>105</th>\n",
       "      <td>Vanderbilt University</td>\n",
       "      <td>United States</td>\n",
       "      <td>0</td>\n",
       "      <td>Vanderbilt University</td>\n",
       "      <td>534</td>\n",
       "      <td>105</td>\n",
       "      <td>1060</td>\n",
       "      <td>private</td>\n",
       "      <td>96.9</td>\n",
       "      <td>37</td>\n",
       "      <td>...</td>\n",
       "      <td>173</td>\n",
       "      <td>47.7</td>\n",
       "      <td>104</td>\n",
       "      <td>53 : 47</td>\n",
       "      <td>12,011</td>\n",
       "      <td>0.13</td>\n",
       "      <td>0.303030</td>\n",
       "      <td>Archaeology,Art, Performing Arts &amp; Design,Biol...</td>\n",
       "      <td>/world-university-rankings/vanderbilt-university</td>\n",
       "      <td>0.30</td>\n",
       "    </tr>\n",
       "    <tr>\n",
       "      <th>109</th>\n",
       "      <td>University of Copenhagen</td>\n",
       "      <td>Denmark</td>\n",
       "      <td>0</td>\n",
       "      <td>University of Copenhagen</td>\n",
       "      <td>599</td>\n",
       "      <td>109</td>\n",
       "      <td>1100</td>\n",
       "      <td>master_account</td>\n",
       "      <td>90.6</td>\n",
       "      <td>87</td>\n",
       "      <td>...</td>\n",
       "      <td>192</td>\n",
       "      <td>44.0</td>\n",
       "      <td>139</td>\n",
       "      <td>58 : 42</td>\n",
       "      <td>30,395</td>\n",
       "      <td>0.14</td>\n",
       "      <td>0.243902</td>\n",
       "      <td>Archaeology,Architecture,Art, Performing Arts ...</td>\n",
       "      <td>/world-university-rankings/university-copenhagen</td>\n",
       "      <td>0.24</td>\n",
       "    </tr>\n",
       "    <tr>\n",
       "      <th>153</th>\n",
       "      <td>University of Rochester</td>\n",
       "      <td>United States</td>\n",
       "      <td>0</td>\n",
       "      <td>University of Rochester</td>\n",
       "      <td>545</td>\n",
       "      <td>153</td>\n",
       "      <td>1540</td>\n",
       "      <td>private</td>\n",
       "      <td>90.2</td>\n",
       "      <td>93</td>\n",
       "      <td>...</td>\n",
       "      <td>252</td>\n",
       "      <td>41.7</td>\n",
       "      <td>167</td>\n",
       "      <td>49 : 51</td>\n",
       "      <td>9,636</td>\n",
       "      <td>0.29</td>\n",
       "      <td>0.232558</td>\n",
       "      <td>Archaeology,Art, Performing Arts &amp; Design,Biol...</td>\n",
       "      <td>/world-university-rankings/university-rochester</td>\n",
       "      <td>0.23</td>\n",
       "    </tr>\n",
       "    <tr>\n",
       "      <th>11</th>\n",
       "      <td>Yale University</td>\n",
       "      <td>United States</td>\n",
       "      <td>0</td>\n",
       "      <td>Yale University</td>\n",
       "      <td>475</td>\n",
       "      <td>12</td>\n",
       "      <td>120</td>\n",
       "      <td>private</td>\n",
       "      <td>98.4</td>\n",
       "      <td>24</td>\n",
       "      <td>...</td>\n",
       "      <td>17</td>\n",
       "      <td>86.7</td>\n",
       "      <td>6</td>\n",
       "      <td>49 : 51</td>\n",
       "      <td>12,155</td>\n",
       "      <td>0.21</td>\n",
       "      <td>0.232558</td>\n",
       "      <td>Archaeology,Architecture,Art, Performing Arts ...</td>\n",
       "      <td>/world-university-rankings/yale-university</td>\n",
       "      <td>0.23</td>\n",
       "    </tr>\n",
       "    <tr>\n",
       "      <th>12</th>\n",
       "      <td>Johns Hopkins University</td>\n",
       "      <td>United States</td>\n",
       "      <td>0</td>\n",
       "      <td>Johns Hopkins University</td>\n",
       "      <td>478</td>\n",
       "      <td>13</td>\n",
       "      <td>130</td>\n",
       "      <td>private</td>\n",
       "      <td>98.4</td>\n",
       "      <td>23</td>\n",
       "      <td>...</td>\n",
       "      <td>16</td>\n",
       "      <td>76.1</td>\n",
       "      <td>23</td>\n",
       "      <td>52 : 48</td>\n",
       "      <td>15,498</td>\n",
       "      <td>0.24</td>\n",
       "      <td>0.232558</td>\n",
       "      <td>Agriculture &amp; Forestry,Archaeology,Architectur...</td>\n",
       "      <td>/world-university-rankings/johns-hopkins-unive...</td>\n",
       "      <td>0.23</td>\n",
       "    </tr>\n",
       "  </tbody>\n",
       "</table>\n",
       "<p>5 rows × 27 columns</p>\n",
       "</div>"
      ],
      "text/plain": [
       "                      aliases       location member_level  \\\n",
       "105     Vanderbilt University  United States            0   \n",
       "109  University of Copenhagen        Denmark            0   \n",
       "153   University of Rochester  United States            0   \n",
       "11            Yale University  United States            0   \n",
       "12   Johns Hopkins University  United States            0   \n",
       "\n",
       "                         name  nid rank rank_order     record_type  \\\n",
       "105     Vanderbilt University  534  105       1060         private   \n",
       "109  University of Copenhagen  599  109       1100  master_account   \n",
       "153   University of Rochester  545  153       1540         private   \n",
       "11            Yale University  475   12        120         private   \n",
       "12   Johns Hopkins University  478   13        130         private   \n",
       "\n",
       "    scores_citations scores_citations_rank            ...             \\\n",
       "105             96.9                    37            ...              \n",
       "109             90.6                    87            ...              \n",
       "153             90.2                    93            ...              \n",
       "11              98.4                    24            ...              \n",
       "12              98.4                    23            ...              \n",
       "\n",
       "    scores_research_rank scores_teaching scores_teaching_rank  \\\n",
       "105                  173            47.7                  104   \n",
       "109                  192            44.0                  139   \n",
       "153                  252            41.7                  167   \n",
       "11                    17            86.7                    6   \n",
       "12                    16            76.1                   23   \n",
       "\n",
       "    stats_female_male_ratio stats_number_students stats_pc_intl_students  \\\n",
       "105                 53 : 47                12,011                   0.13   \n",
       "109                 58 : 42                30,395                   0.14   \n",
       "153                 49 : 51                 9,636                   0.29   \n",
       "11                  49 : 51                12,155                   0.21   \n",
       "12                  52 : 48                15,498                   0.24   \n",
       "\n",
       "    stats_student_staff_ratio  \\\n",
       "105                  0.303030   \n",
       "109                  0.243902   \n",
       "153                  0.232558   \n",
       "11                   0.232558   \n",
       "12                   0.232558   \n",
       "\n",
       "                                      subjects_offered  \\\n",
       "105  Archaeology,Art, Performing Arts & Design,Biol...   \n",
       "109  Archaeology,Architecture,Art, Performing Arts ...   \n",
       "153  Archaeology,Art, Performing Arts & Design,Biol...   \n",
       "11   Archaeology,Architecture,Art, Performing Arts ...   \n",
       "12   Agriculture & Forestry,Archaeology,Architectur...   \n",
       "\n",
       "                                                   url  \\\n",
       "105   /world-university-rankings/vanderbilt-university   \n",
       "109   /world-university-rankings/university-copenhagen   \n",
       "153    /world-university-rankings/university-rochester   \n",
       "11          /world-university-rankings/yale-university   \n",
       "12   /world-university-rankings/johns-hopkins-unive...   \n",
       "\n",
       "    stats_staff_student_ratio  \n",
       "105                      0.30  \n",
       "109                      0.24  \n",
       "153                      0.23  \n",
       "11                       0.23  \n",
       "12                       0.23  \n",
       "\n",
       "[5 rows x 27 columns]"
      ]
     },
     "execution_count": 140,
     "metadata": {},
     "output_type": "execute_result"
    }
   ],
   "source": [
    "ranking200_2.sort_values(['stats_student_staff_ratio'],ascending=0).head()\n",
    "#ranking200_2.sort_values(['stats_pc_intl_students'],ascending=0).head()"
   ]
  },
  {
   "cell_type": "markdown",
   "metadata": {},
   "source": [
    "# Question 3\n",
    "\n",
    "Mergin both dataframes.\n",
    "\n",
    "\n",
    "***It is necessary to type this in the terminal for the second part to work:***\n",
    "\n",
    "pip install fuzzywuzzy"
   ]
  },
  {
   "cell_type": "code",
   "execution_count": 141,
   "metadata": {
    "collapsed": true
   },
   "outputs": [],
   "source": [
    "from fuzzywuzzy import fuzz"
   ]
  },
  {
   "cell_type": "markdown",
   "metadata": {},
   "source": [
    "For each university (*row_1*) of the first ranking, we use a function to compare with all the university names (*row_2*) of the second ranking.\n",
    "\n",
    "We only save the index of the most important similarity between names for each *row_1*. \n",
    "\n",
    "There is a threshold of 90 to get ride of the universities in *row_2* not present in *row_1*."
   ]
  },
  {
   "cell_type": "code",
   "execution_count": 142,
   "metadata": {},
   "outputs": [
    {
     "data": {
      "text/html": [
       "<div>\n",
       "<style>\n",
       "    .dataframe thead tr:only-child th {\n",
       "        text-align: right;\n",
       "    }\n",
       "\n",
       "    .dataframe thead th {\n",
       "        text-align: left;\n",
       "    }\n",
       "\n",
       "    .dataframe tbody tr th {\n",
       "        vertical-align: top;\n",
       "    }\n",
       "</style>\n",
       "<table border=\"1\" class=\"dataframe\">\n",
       "  <thead>\n",
       "    <tr style=\"text-align: right;\">\n",
       "      <th></th>\n",
       "      <th>0</th>\n",
       "      <th>1</th>\n",
       "    </tr>\n",
       "  </thead>\n",
       "  <tbody>\n",
       "    <tr>\n",
       "      <th>0</th>\n",
       "      <td>0</td>\n",
       "      <td>4</td>\n",
       "    </tr>\n",
       "    <tr>\n",
       "      <th>1</th>\n",
       "      <td>1</td>\n",
       "      <td>3</td>\n",
       "    </tr>\n",
       "    <tr>\n",
       "      <th>2</th>\n",
       "      <td>2</td>\n",
       "      <td>5</td>\n",
       "    </tr>\n",
       "    <tr>\n",
       "      <th>3</th>\n",
       "      <td>3</td>\n",
       "      <td>2</td>\n",
       "    </tr>\n",
       "    <tr>\n",
       "      <th>4</th>\n",
       "      <td>4</td>\n",
       "      <td>1</td>\n",
       "    </tr>\n",
       "  </tbody>\n",
       "</table>\n",
       "</div>"
      ],
      "text/plain": [
       "   0  1\n",
       "0  0  4\n",
       "1  1  3\n",
       "2  2  5\n",
       "3  3  2\n",
       "4  4  1"
      ]
     },
     "execution_count": 142,
     "metadata": {},
     "output_type": "execute_result"
    }
   ],
   "source": [
    "positions=[]\n",
    "\n",
    "for index_1,row_1 in ranking200_1.iterrows():\n",
    "    criterias = []\n",
    "    \n",
    "    for index_2,row_2 in ranking200_2.iterrows():\n",
    "        criteria = fuzz.partial_ratio(row_1.title,row_2['name'])\n",
    "        criterias.append(criteria)\n",
    "        \n",
    "    criterias=pd.DataFrame(criterias)\n",
    "    if int(criterias.max().values) >= 90:\n",
    "            position = [index_1, int(criterias.idxmax().values)]\n",
    "            positions.append(position)\n",
    "            \n",
    "positions=pd.DataFrame(positions)\n",
    "positions.head()"
   ]
  },
  {
   "cell_type": "markdown",
   "metadata": {},
   "source": [
    "We get a dataframe where each university (row) has 2 indices, respectively in the first and second ranking."
   ]
  },
  {
   "cell_type": "markdown",
   "metadata": {},
   "source": [
    "Then, we use these 2 indices to combine the university's info in one dataframe."
   ]
  },
  {
   "cell_type": "code",
   "execution_count": 143,
   "metadata": {},
   "outputs": [
    {
     "data": {
      "text/html": [
       "<div>\n",
       "<style>\n",
       "    .dataframe thead tr:only-child th {\n",
       "        text-align: right;\n",
       "    }\n",
       "\n",
       "    .dataframe thead th {\n",
       "        text-align: left;\n",
       "    }\n",
       "\n",
       "    .dataframe tbody tr th {\n",
       "        vertical-align: top;\n",
       "    }\n",
       "</style>\n",
       "<table border=\"1\" class=\"dataframe\">\n",
       "  <thead>\n",
       "    <tr style=\"text-align: right;\">\n",
       "      <th></th>\n",
       "      <th>cc</th>\n",
       "      <th>core_id</th>\n",
       "      <th>country</th>\n",
       "      <th>guide</th>\n",
       "      <th>logo</th>\n",
       "      <th>nid</th>\n",
       "      <th>rank_display</th>\n",
       "      <th>region</th>\n",
       "      <th>score</th>\n",
       "      <th>stars</th>\n",
       "      <th>...</th>\n",
       "      <th>scores_research_rank</th>\n",
       "      <th>scores_teaching</th>\n",
       "      <th>scores_teaching_rank</th>\n",
       "      <th>stats_female_male_ratio</th>\n",
       "      <th>stats_number_students</th>\n",
       "      <th>stats_pc_intl_students</th>\n",
       "      <th>stats_student_staff_ratio</th>\n",
       "      <th>subjects_offered</th>\n",
       "      <th>url</th>\n",
       "      <th>stats_staff_student_ratio</th>\n",
       "    </tr>\n",
       "  </thead>\n",
       "  <tbody>\n",
       "    <tr>\n",
       "      <th>0</th>\n",
       "      <td>US</td>\n",
       "      <td>410</td>\n",
       "      <td>United States</td>\n",
       "      <td>&lt;a href=\"/where-to-study/north-america/united-...</td>\n",
       "      <td>&lt;img src=\"https://www.topuniversities.com/site...</td>\n",
       "      <td>294850</td>\n",
       "      <td>1</td>\n",
       "      <td>North America</td>\n",
       "      <td>100</td>\n",
       "      <td>6</td>\n",
       "      <td>...</td>\n",
       "      <td>9</td>\n",
       "      <td>87.3</td>\n",
       "      <td>4</td>\n",
       "      <td>37 : 63</td>\n",
       "      <td>11,177</td>\n",
       "      <td>0.34</td>\n",
       "      <td>0.114943</td>\n",
       "      <td>Architecture,Art, Performing Arts &amp; Design,Bio...</td>\n",
       "      <td>/world-university-rankings/massachusetts-insti...</td>\n",
       "      <td>0.11</td>\n",
       "    </tr>\n",
       "    <tr>\n",
       "      <th>1</th>\n",
       "      <td>US</td>\n",
       "      <td>573</td>\n",
       "      <td>United States</td>\n",
       "      <td>&lt;a href=\"/where-to-study/north-america/united-...</td>\n",
       "      <td>&lt;img src=\"https://www.topuniversities.com/site...</td>\n",
       "      <td>297282</td>\n",
       "      <td>2</td>\n",
       "      <td>North America</td>\n",
       "      <td>98.7</td>\n",
       "      <td>5</td>\n",
       "      <td>...</td>\n",
       "      <td>5</td>\n",
       "      <td>89.1</td>\n",
       "      <td>2</td>\n",
       "      <td>42 : 58</td>\n",
       "      <td>15,845</td>\n",
       "      <td>0.22</td>\n",
       "      <td>0.133333</td>\n",
       "      <td>Archaeology,Architecture,Art, Performing Arts ...</td>\n",
       "      <td>/world-university-rankings/stanford-university</td>\n",
       "      <td>0.13</td>\n",
       "    </tr>\n",
       "    <tr>\n",
       "      <th>2</th>\n",
       "      <td>US</td>\n",
       "      <td>253</td>\n",
       "      <td>United States</td>\n",
       "      <td>&lt;a href=\"/where-to-study/north-america/united-...</td>\n",
       "      <td>&lt;img src=\"https://www.topuniversities.com/site...</td>\n",
       "      <td>294270</td>\n",
       "      <td>3</td>\n",
       "      <td>North America</td>\n",
       "      <td>98.4</td>\n",
       "      <td>5</td>\n",
       "      <td>...</td>\n",
       "      <td>2</td>\n",
       "      <td>84.2</td>\n",
       "      <td>9</td>\n",
       "      <td>None</td>\n",
       "      <td>20,326</td>\n",
       "      <td>0.26</td>\n",
       "      <td>0.11236</td>\n",
       "      <td>Agriculture &amp; Forestry,Archaeology,Art, Perfor...</td>\n",
       "      <td>/world-university-rankings/harvard-university</td>\n",
       "      <td>0.11</td>\n",
       "    </tr>\n",
       "    <tr>\n",
       "      <th>3</th>\n",
       "      <td>US</td>\n",
       "      <td>94</td>\n",
       "      <td>United States</td>\n",
       "      <td>&lt;a href=\"/where-to-study/north-america/united-...</td>\n",
       "      <td>&lt;img src=\"https://www.topuniversities.com/site...</td>\n",
       "      <td>294562</td>\n",
       "      <td>4</td>\n",
       "      <td>North America</td>\n",
       "      <td>97.7</td>\n",
       "      <td>5</td>\n",
       "      <td>...</td>\n",
       "      <td>4</td>\n",
       "      <td>90.3</td>\n",
       "      <td>1</td>\n",
       "      <td>31 : 69</td>\n",
       "      <td>2,209</td>\n",
       "      <td>0.27</td>\n",
       "      <td>0.153846</td>\n",
       "      <td>Architecture,Biological Sciences,Business &amp; Ma...</td>\n",
       "      <td>/world-university-rankings/california-institut...</td>\n",
       "      <td>0.15</td>\n",
       "    </tr>\n",
       "    <tr>\n",
       "      <th>4</th>\n",
       "      <td>GB</td>\n",
       "      <td>95</td>\n",
       "      <td>United Kingdom</td>\n",
       "      <td>&lt;a href=\"/where-to-study/europe/united-kingdom...</td>\n",
       "      <td>&lt;img src=\"https://www.topuniversities.com/site...</td>\n",
       "      <td>294561</td>\n",
       "      <td>5</td>\n",
       "      <td>Europe</td>\n",
       "      <td>95.6</td>\n",
       "      <td>5</td>\n",
       "      <td>...</td>\n",
       "      <td>3</td>\n",
       "      <td>87.8</td>\n",
       "      <td>3</td>\n",
       "      <td>45 : 55</td>\n",
       "      <td>18,389</td>\n",
       "      <td>0.35</td>\n",
       "      <td>0.0917431</td>\n",
       "      <td>Archaeology,Architecture,Art, Performing Arts ...</td>\n",
       "      <td>/world-university-rankings/university-cambridge</td>\n",
       "      <td>0.09</td>\n",
       "    </tr>\n",
       "  </tbody>\n",
       "</table>\n",
       "<p>5 rows × 45 columns</p>\n",
       "</div>"
      ],
      "text/plain": [
       "   cc core_id         country  \\\n",
       "0  US     410   United States   \n",
       "1  US     573   United States   \n",
       "2  US     253   United States   \n",
       "3  US      94   United States   \n",
       "4  GB      95  United Kingdom   \n",
       "\n",
       "                                               guide  \\\n",
       "0  <a href=\"/where-to-study/north-america/united-...   \n",
       "1  <a href=\"/where-to-study/north-america/united-...   \n",
       "2  <a href=\"/where-to-study/north-america/united-...   \n",
       "3  <a href=\"/where-to-study/north-america/united-...   \n",
       "4  <a href=\"/where-to-study/europe/united-kingdom...   \n",
       "\n",
       "                                                logo     nid rank_display  \\\n",
       "0  <img src=\"https://www.topuniversities.com/site...  294850            1   \n",
       "1  <img src=\"https://www.topuniversities.com/site...  297282            2   \n",
       "2  <img src=\"https://www.topuniversities.com/site...  294270            3   \n",
       "3  <img src=\"https://www.topuniversities.com/site...  294562            4   \n",
       "4  <img src=\"https://www.topuniversities.com/site...  294561            5   \n",
       "\n",
       "          region score stars            ...            scores_research_rank  \\\n",
       "0  North America   100     6            ...                               9   \n",
       "1  North America  98.7     5            ...                               5   \n",
       "2  North America  98.4     5            ...                               2   \n",
       "3  North America  97.7     5            ...                               4   \n",
       "4         Europe  95.6     5            ...                               3   \n",
       "\n",
       "  scores_teaching scores_teaching_rank stats_female_male_ratio  \\\n",
       "0            87.3                    4                 37 : 63   \n",
       "1            89.1                    2                 42 : 58   \n",
       "2            84.2                    9                    None   \n",
       "3            90.3                    1                 31 : 69   \n",
       "4            87.8                    3                 45 : 55   \n",
       "\n",
       "  stats_number_students stats_pc_intl_students stats_student_staff_ratio  \\\n",
       "0                11,177                   0.34                  0.114943   \n",
       "1                15,845                   0.22                  0.133333   \n",
       "2                20,326                   0.26                   0.11236   \n",
       "3                 2,209                   0.27                  0.153846   \n",
       "4                18,389                   0.35                 0.0917431   \n",
       "\n",
       "                                    subjects_offered  \\\n",
       "0  Architecture,Art, Performing Arts & Design,Bio...   \n",
       "1  Archaeology,Architecture,Art, Performing Arts ...   \n",
       "2  Agriculture & Forestry,Archaeology,Art, Perfor...   \n",
       "3  Architecture,Biological Sciences,Business & Ma...   \n",
       "4  Archaeology,Architecture,Art, Performing Arts ...   \n",
       "\n",
       "                                                 url stats_staff_student_ratio  \n",
       "0  /world-university-rankings/massachusetts-insti...                      0.11  \n",
       "1     /world-university-rankings/stanford-university                      0.13  \n",
       "2      /world-university-rankings/harvard-university                      0.11  \n",
       "3  /world-university-rankings/california-institut...                      0.15  \n",
       "4    /world-university-rankings/university-cambridge                      0.09  \n",
       "\n",
       "[5 rows x 45 columns]"
      ]
     },
     "execution_count": 143,
     "metadata": {},
     "output_type": "execute_result"
    }
   ],
   "source": [
    "ranking=pd.DataFrame([])\n",
    "\n",
    "for index,row in positions.iterrows():\n",
    "    ranking=ranking.append(pd.DataFrame(ranking200_1.loc[positions.loc[index][0]].append(ranking200_2.loc[positions.loc[index][1]])).transpose(),ignore_index=True)\n",
    "\n",
    "ranking.head()"
   ]
  },
  {
   "cell_type": "code",
   "execution_count": 144,
   "metadata": {
    "collapsed": true
   },
   "outputs": [],
   "source": [
    "ranking=ranking[['title','rank_display','rank','country','region','Ratio Staff/Students','Ratio International Students']]"
   ]
  },
  {
   "cell_type": "code",
   "execution_count": 145,
   "metadata": {
    "collapsed": true
   },
   "outputs": [],
   "source": [
    "ranking.columns=['Name','Rank: \"Top Universities\"','Rank: \"World Universities Rankings\"','Country','Region','Ratio Staff/Students','Ratio International Students']"
   ]
  },
  {
   "cell_type": "code",
   "execution_count": 146,
   "metadata": {},
   "outputs": [
    {
     "data": {
      "text/html": [
       "<div>\n",
       "<style>\n",
       "    .dataframe thead tr:only-child th {\n",
       "        text-align: right;\n",
       "    }\n",
       "\n",
       "    .dataframe thead th {\n",
       "        text-align: left;\n",
       "    }\n",
       "\n",
       "    .dataframe tbody tr th {\n",
       "        vertical-align: top;\n",
       "    }\n",
       "</style>\n",
       "<table border=\"1\" class=\"dataframe\">\n",
       "  <thead>\n",
       "    <tr style=\"text-align: right;\">\n",
       "      <th></th>\n",
       "      <th>Name</th>\n",
       "      <th>Rank: \"Top Universities\"</th>\n",
       "      <th>Rank: \"World Universities Rankings\"</th>\n",
       "      <th>Country</th>\n",
       "      <th>Region</th>\n",
       "      <th>Ratio Staff/Students</th>\n",
       "      <th>Ratio International Students</th>\n",
       "    </tr>\n",
       "  </thead>\n",
       "  <tbody>\n",
       "    <tr>\n",
       "      <th>0</th>\n",
       "      <td>Massachusetts Institute of Technology (MIT)</td>\n",
       "      <td>1</td>\n",
       "      <td>5</td>\n",
       "      <td>United States</td>\n",
       "      <td>North America</td>\n",
       "      <td>0.27</td>\n",
       "      <td>0.34</td>\n",
       "    </tr>\n",
       "    <tr>\n",
       "      <th>1</th>\n",
       "      <td>Stanford University</td>\n",
       "      <td>2</td>\n",
       "      <td>3</td>\n",
       "      <td>United States</td>\n",
       "      <td>North America</td>\n",
       "      <td>0.27</td>\n",
       "      <td>0.23</td>\n",
       "    </tr>\n",
       "    <tr>\n",
       "      <th>2</th>\n",
       "      <td>Harvard University</td>\n",
       "      <td>3</td>\n",
       "      <td>6</td>\n",
       "      <td>United States</td>\n",
       "      <td>North America</td>\n",
       "      <td>0.19</td>\n",
       "      <td>0.23</td>\n",
       "    </tr>\n",
       "    <tr>\n",
       "      <th>3</th>\n",
       "      <td>California Institute of Technology (Caltech)</td>\n",
       "      <td>4</td>\n",
       "      <td>3</td>\n",
       "      <td>United States</td>\n",
       "      <td>North America</td>\n",
       "      <td>0.42</td>\n",
       "      <td>0.29</td>\n",
       "    </tr>\n",
       "    <tr>\n",
       "      <th>4</th>\n",
       "      <td>University of Cambridge</td>\n",
       "      <td>5</td>\n",
       "      <td>2</td>\n",
       "      <td>United Kingdom</td>\n",
       "      <td>Europe</td>\n",
       "      <td>0.29</td>\n",
       "      <td>0.36</td>\n",
       "    </tr>\n",
       "  </tbody>\n",
       "</table>\n",
       "</div>"
      ],
      "text/plain": [
       "                                           Name Rank: \"Top Universities\"  \\\n",
       "0   Massachusetts Institute of Technology (MIT)                        1   \n",
       "1                           Stanford University                        2   \n",
       "2                            Harvard University                        3   \n",
       "3  California Institute of Technology (Caltech)                        4   \n",
       "4                       University of Cambridge                        5   \n",
       "\n",
       "  Rank: \"World Universities Rankings\"         Country         Region  \\\n",
       "0                                   5   United States  North America   \n",
       "1                                   3   United States  North America   \n",
       "2                                   6   United States  North America   \n",
       "3                                   3   United States  North America   \n",
       "4                                   2  United Kingdom         Europe   \n",
       "\n",
       "  Ratio Staff/Students Ratio International Students  \n",
       "0                 0.27                         0.34  \n",
       "1                 0.27                         0.23  \n",
       "2                 0.19                         0.23  \n",
       "3                 0.42                         0.29  \n",
       "4                 0.29                         0.36  "
      ]
     },
     "execution_count": 146,
     "metadata": {},
     "output_type": "execute_result"
    }
   ],
   "source": [
    "ranking.head() #Preview of our final ranking dataframe."
   ]
  },
  {
   "cell_type": "markdown",
   "metadata": {},
   "source": [
    "# Question 4\n",
    "\n",
    "Analyzing ranking information. "
   ]
  },
  {
   "cell_type": "markdown",
   "metadata": {},
   "source": [
    "Looking for some correlation between data "
   ]
  },
  {
   "cell_type": "code",
   "execution_count": 147,
   "metadata": {},
   "outputs": [
    {
     "data": {
      "text/plain": [
       "<matplotlib.axes._subplots.AxesSubplot at 0x1d314eccd30>"
      ]
     },
     "execution_count": 147,
     "metadata": {},
     "output_type": "execute_result"
    },
    {
     "data": {
      "image/png": "[encoded data removed]",
      "text/plain": [
       "<matplotlib.figure.Figure at 0x1d31514b588>"
      ]
     },
     "metadata": {},
     "output_type": "display_data"
    }
   ],
   "source": [
    "for col in ranking.columns:\n",
    "    if (col==\"Name\" or col==\"Country\" or col==\"Region\"):\n",
    "        ranking[col]=ranking[col].astype(str)\n",
    "    elif(col==\"Rank: \\\"Top Universities\\\"\" or col==\"Rank: \\\"World Universities Rankings\\\"\"):\n",
    "        ranking[col]=ranking[col].astype(int)\n",
    "    else:\n",
    "        ranking[col]=ranking[col].astype(float)\n",
    "        \n",
    "ranking.corr()\n",
    "%matplotlib inline\n",
    "sns.heatmap(ranking.corr(), annot=True, fmt=\".2f\")"
   ]
  },
  {
   "cell_type": "markdown",
   "metadata": {},
   "source": [
    "We have compared both rankings and mainly got the correlation between the staff/students and the ratio of international student.\n",
    "\n",
    "We can observe that there are many similarities between rankings positions, getting a high correlation comparing both.\n",
    "\n",
    "The other results only show a weak inverse correlation. \n"
   ]
  },
  {
   "cell_type": "code",
   "execution_count": 155,
   "metadata": {},
   "outputs": [
    {
     "data": {
      "text/plain": [
       "<matplotlib.axes._subplots.AxesSubplot at 0x1d317af1588>"
      ]
     },
     "execution_count": 155,
     "metadata": {},
     "output_type": "execute_result"
    },
    {
     "data": {
      "image/png": "[encoded data removed]",
      "text/plain": [
       "<matplotlib.figure.Figure at 0x1d315813fd0>"
      ]
     },
     "metadata": {},
     "output_type": "display_data"
    }
   ],
   "source": [
    "ranking['Region'].value_counts().plot(kind = \"bar\")"
   ]
  },
  {
   "cell_type": "code",
   "execution_count": 156,
   "metadata": {},
   "outputs": [
    {
     "data": {
      "text/plain": [
       "<matplotlib.axes._subplots.AxesSubplot at 0x1d317c79dd8>"
      ]
     },
     "execution_count": 156,
     "metadata": {},
     "output_type": "execute_result"
    },
    {
     "data": {
      "image/png": "[encoded data removed]",
      "text/plain": [
       "<matplotlib.figure.Figure at 0x1d3157f4b38>"
      ]
     },
     "metadata": {},
     "output_type": "display_data"
    }
   ],
   "source": [
    "ranking['Country'].value_counts().plot(kind = \"bar\")"
   ]
  },
  {
   "cell_type": "markdown",
   "metadata": {},
   "source": [
    "Now, we see universities by region in the first plot, most of the top 200 are in Europe. \n",
    "But from the second plot what we can see is that United States stats out above the rest."
   ]
  },
  {
   "cell_type": "markdown",
   "metadata": {},
   "source": [
    "# Question 5\n",
    "\n",
    "Searching for the best university using both ranks."
   ]
  },
  {
   "cell_type": "markdown",
   "metadata": {},
   "source": [
    "Our strategy is to get a new rank ordering universities by adding their possition from both rankings so that the one with the lowest value is the one who got the best review."
   ]
  },
  {
   "cell_type": "code",
   "execution_count": 152,
   "metadata": {},
   "outputs": [
    {
     "data": {
      "text/html": [
       "<div>\n",
       "<style>\n",
       "    .dataframe thead tr:only-child th {\n",
       "        text-align: right;\n",
       "    }\n",
       "\n",
       "    .dataframe thead th {\n",
       "        text-align: left;\n",
       "    }\n",
       "\n",
       "    .dataframe tbody tr th {\n",
       "        vertical-align: top;\n",
       "    }\n",
       "</style>\n",
       "<table border=\"1\" class=\"dataframe\">\n",
       "  <thead>\n",
       "    <tr style=\"text-align: right;\">\n",
       "      <th></th>\n",
       "      <th>Name</th>\n",
       "      <th>Rank: \"Top Universities\"</th>\n",
       "      <th>Rank: \"World Universities Rankings\"</th>\n",
       "      <th>Country</th>\n",
       "      <th>Region</th>\n",
       "      <th>Ratio Staff/Students</th>\n",
       "      <th>Ratio International Students</th>\n",
       "      <th>Result position</th>\n",
       "    </tr>\n",
       "  </thead>\n",
       "  <tbody>\n",
       "    <tr>\n",
       "      <th>1</th>\n",
       "      <td>Stanford University</td>\n",
       "      <td>2</td>\n",
       "      <td>3</td>\n",
       "      <td>United States</td>\n",
       "      <td>North America</td>\n",
       "      <td>0.27</td>\n",
       "      <td>0.23</td>\n",
       "      <td>5</td>\n",
       "    </tr>\n",
       "    <tr>\n",
       "      <th>0</th>\n",
       "      <td>Massachusetts Institute of Technology (MIT)</td>\n",
       "      <td>1</td>\n",
       "      <td>5</td>\n",
       "      <td>United States</td>\n",
       "      <td>North America</td>\n",
       "      <td>0.27</td>\n",
       "      <td>0.34</td>\n",
       "      <td>6</td>\n",
       "    </tr>\n",
       "    <tr>\n",
       "      <th>3</th>\n",
       "      <td>California Institute of Technology (Caltech)</td>\n",
       "      <td>4</td>\n",
       "      <td>3</td>\n",
       "      <td>United States</td>\n",
       "      <td>North America</td>\n",
       "      <td>0.42</td>\n",
       "      <td>0.29</td>\n",
       "      <td>7</td>\n",
       "    </tr>\n",
       "    <tr>\n",
       "      <th>4</th>\n",
       "      <td>University of Cambridge</td>\n",
       "      <td>5</td>\n",
       "      <td>2</td>\n",
       "      <td>United Kingdom</td>\n",
       "      <td>Europe</td>\n",
       "      <td>0.29</td>\n",
       "      <td>0.36</td>\n",
       "      <td>7</td>\n",
       "    </tr>\n",
       "    <tr>\n",
       "      <th>5</th>\n",
       "      <td>University of Oxford</td>\n",
       "      <td>6</td>\n",
       "      <td>1</td>\n",
       "      <td>United Kingdom</td>\n",
       "      <td>Europe</td>\n",
       "      <td>0.34</td>\n",
       "      <td>0.37</td>\n",
       "      <td>7</td>\n",
       "    </tr>\n",
       "  </tbody>\n",
       "</table>\n",
       "</div>"
      ],
      "text/plain": [
       "                                           Name  Rank: \"Top Universities\"  \\\n",
       "1                           Stanford University                         2   \n",
       "0   Massachusetts Institute of Technology (MIT)                         1   \n",
       "3  California Institute of Technology (Caltech)                         4   \n",
       "4                       University of Cambridge                         5   \n",
       "5                          University of Oxford                         6   \n",
       "\n",
       "   Rank: \"World Universities Rankings\"         Country         Region  \\\n",
       "1                                    3   United States  North America   \n",
       "0                                    5   United States  North America   \n",
       "3                                    3   United States  North America   \n",
       "4                                    2  United Kingdom         Europe   \n",
       "5                                    1  United Kingdom         Europe   \n",
       "\n",
       "   Ratio Staff/Students  Ratio International Students  Result position  \n",
       "1                  0.27                          0.23                5  \n",
       "0                  0.27                          0.34                6  \n",
       "3                  0.42                          0.29                7  \n",
       "4                  0.29                          0.36                7  \n",
       "5                  0.34                          0.37                7  "
      ]
     },
     "execution_count": 152,
     "metadata": {},
     "output_type": "execute_result"
    }
   ],
   "source": [
    "#Adding results\n",
    "ranking['Result position']=ranking[\"Rank: \\\"Top Universities\\\"\"] + ranking[\"Rank: \\\"World Universities Rankings\\\"\"]\n",
    "\n",
    "#Getting the top ones\n",
    "ranking.sort_values(['Result position'],ascending=1).head()"
   ]
  },
  {
   "cell_type": "markdown",
   "metadata": {},
   "source": [
    "\n",
    "This shows that the best university is **Stanford University**"
   ]
  }
 ],
 "metadata": {
  "kernelspec": {
   "display_name": "Python 3",
   "language": "python",
   "name": "python3"
  },
  "language_info": {
   "codemirror_mode": {
    "name": "ipython",
    "version": 3
   },
   "file_extension": ".py",
   "mimetype": "text/x-python",
   "name": "python",
   "nbconvert_exporter": "python",
   "pygments_lexer": "ipython3",
   "version": "3.6.1"
  }
 },
 "nbformat": 4,
 "nbformat_minor": 2
}
